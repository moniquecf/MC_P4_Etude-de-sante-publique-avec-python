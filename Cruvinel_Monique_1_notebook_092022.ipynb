{
 "cells": [
  {
   "cell_type": "markdown",
   "id": "279df016",
   "metadata": {},
   "source": [
    "# Importation des librairies"
   ]
  },
  {
   "cell_type": "code",
   "execution_count": 351,
   "id": "5cc1a128",
   "metadata": {},
   "outputs": [],
   "source": [
    "import numpy as np\n",
    "import pandas as pd\n",
    "import matplotlib.pyplot as plt\n",
    "import seaborn as sns"
   ]
  },
  {
   "cell_type": "markdown",
   "id": "7c3a7d86",
   "metadata": {},
   "source": [
    "# Importation des fichiers CSV"
   ]
  },
  {
   "cell_type": "code",
   "execution_count": 31,
   "id": "4468064b",
   "metadata": {},
   "outputs": [
    {
     "data": {
      "text/html": [
       "<div>\n",
       "<style scoped>\n",
       "    .dataframe tbody tr th:only-of-type {\n",
       "        vertical-align: middle;\n",
       "    }\n",
       "\n",
       "    .dataframe tbody tr th {\n",
       "        vertical-align: top;\n",
       "    }\n",
       "\n",
       "    .dataframe thead th {\n",
       "        text-align: right;\n",
       "    }\n",
       "</style>\n",
       "<table border=\"1\" class=\"dataframe\">\n",
       "  <thead>\n",
       "    <tr style=\"text-align: right;\">\n",
       "      <th></th>\n",
       "      <th>Pays bénéficiaire</th>\n",
       "      <th>Année</th>\n",
       "      <th>Produit</th>\n",
       "      <th>Valeur</th>\n",
       "    </tr>\n",
       "  </thead>\n",
       "  <tbody>\n",
       "    <tr>\n",
       "      <th>0</th>\n",
       "      <td>Afghanistan</td>\n",
       "      <td>2013</td>\n",
       "      <td>Autres non-céréales</td>\n",
       "      <td>682</td>\n",
       "    </tr>\n",
       "    <tr>\n",
       "      <th>1</th>\n",
       "      <td>Afghanistan</td>\n",
       "      <td>2014</td>\n",
       "      <td>Autres non-céréales</td>\n",
       "      <td>335</td>\n",
       "    </tr>\n",
       "    <tr>\n",
       "      <th>2</th>\n",
       "      <td>Afghanistan</td>\n",
       "      <td>2013</td>\n",
       "      <td>Blé et Farin</td>\n",
       "      <td>39224</td>\n",
       "    </tr>\n",
       "    <tr>\n",
       "      <th>3</th>\n",
       "      <td>Afghanistan</td>\n",
       "      <td>2014</td>\n",
       "      <td>Blé et Farin</td>\n",
       "      <td>15160</td>\n",
       "    </tr>\n",
       "    <tr>\n",
       "      <th>4</th>\n",
       "      <td>Afghanistan</td>\n",
       "      <td>2013</td>\n",
       "      <td>Céréales</td>\n",
       "      <td>40504</td>\n",
       "    </tr>\n",
       "  </tbody>\n",
       "</table>\n",
       "</div>"
      ],
      "text/plain": [
       "  Pays bénéficiaire  Année              Produit  Valeur\n",
       "0       Afghanistan   2013  Autres non-céréales     682\n",
       "1       Afghanistan   2014  Autres non-céréales     335\n",
       "2       Afghanistan   2013         Blé et Farin   39224\n",
       "3       Afghanistan   2014         Blé et Farin   15160\n",
       "4       Afghanistan   2013             Céréales   40504"
      ]
     },
     "execution_count": 31,
     "metadata": {},
     "output_type": "execute_result"
    }
   ],
   "source": [
    "aide_alimentaire = pd.read_csv('aide_alimentaire.csv')\n",
    "aide_alimentaire.head()"
   ]
  },
  {
   "cell_type": "code",
   "execution_count": 32,
   "id": "dd084e8b",
   "metadata": {},
   "outputs": [
    {
     "data": {
      "text/html": [
       "<div>\n",
       "<style scoped>\n",
       "    .dataframe tbody tr th:only-of-type {\n",
       "        vertical-align: middle;\n",
       "    }\n",
       "\n",
       "    .dataframe tbody tr th {\n",
       "        vertical-align: top;\n",
       "    }\n",
       "\n",
       "    .dataframe thead th {\n",
       "        text-align: right;\n",
       "    }\n",
       "</style>\n",
       "<table border=\"1\" class=\"dataframe\">\n",
       "  <thead>\n",
       "    <tr style=\"text-align: right;\">\n",
       "      <th></th>\n",
       "      <th>Zone</th>\n",
       "      <th>Produit</th>\n",
       "      <th>Origine</th>\n",
       "      <th>Aliments pour animaux</th>\n",
       "      <th>Autres Utilisations</th>\n",
       "      <th>Disponibilité alimentaire (Kcal/personne/jour)</th>\n",
       "      <th>Disponibilité alimentaire en quantité (kg/personne/an)</th>\n",
       "      <th>Disponibilité de matière grasse en quantité (g/personne/jour)</th>\n",
       "      <th>Disponibilité de protéines en quantité (g/personne/jour)</th>\n",
       "      <th>Disponibilité intérieure</th>\n",
       "      <th>Exportations - Quantité</th>\n",
       "      <th>Importations - Quantité</th>\n",
       "      <th>Nourriture</th>\n",
       "      <th>Pertes</th>\n",
       "      <th>Production</th>\n",
       "      <th>Semences</th>\n",
       "      <th>Traitement</th>\n",
       "      <th>Variation de stock</th>\n",
       "    </tr>\n",
       "  </thead>\n",
       "  <tbody>\n",
       "    <tr>\n",
       "      <th>0</th>\n",
       "      <td>Afghanistan</td>\n",
       "      <td>Abats Comestible</td>\n",
       "      <td>animale</td>\n",
       "      <td>NaN</td>\n",
       "      <td>NaN</td>\n",
       "      <td>5.0</td>\n",
       "      <td>1.72</td>\n",
       "      <td>0.20</td>\n",
       "      <td>0.77</td>\n",
       "      <td>53.0</td>\n",
       "      <td>NaN</td>\n",
       "      <td>NaN</td>\n",
       "      <td>53.0</td>\n",
       "      <td>NaN</td>\n",
       "      <td>53.0</td>\n",
       "      <td>NaN</td>\n",
       "      <td>NaN</td>\n",
       "      <td>NaN</td>\n",
       "    </tr>\n",
       "    <tr>\n",
       "      <th>1</th>\n",
       "      <td>Afghanistan</td>\n",
       "      <td>Agrumes, Autres</td>\n",
       "      <td>vegetale</td>\n",
       "      <td>NaN</td>\n",
       "      <td>NaN</td>\n",
       "      <td>1.0</td>\n",
       "      <td>1.29</td>\n",
       "      <td>0.01</td>\n",
       "      <td>0.02</td>\n",
       "      <td>41.0</td>\n",
       "      <td>2.0</td>\n",
       "      <td>40.0</td>\n",
       "      <td>39.0</td>\n",
       "      <td>2.0</td>\n",
       "      <td>3.0</td>\n",
       "      <td>NaN</td>\n",
       "      <td>NaN</td>\n",
       "      <td>NaN</td>\n",
       "    </tr>\n",
       "    <tr>\n",
       "      <th>2</th>\n",
       "      <td>Afghanistan</td>\n",
       "      <td>Aliments pour enfants</td>\n",
       "      <td>vegetale</td>\n",
       "      <td>NaN</td>\n",
       "      <td>NaN</td>\n",
       "      <td>1.0</td>\n",
       "      <td>0.06</td>\n",
       "      <td>0.01</td>\n",
       "      <td>0.03</td>\n",
       "      <td>2.0</td>\n",
       "      <td>NaN</td>\n",
       "      <td>2.0</td>\n",
       "      <td>2.0</td>\n",
       "      <td>NaN</td>\n",
       "      <td>NaN</td>\n",
       "      <td>NaN</td>\n",
       "      <td>NaN</td>\n",
       "      <td>NaN</td>\n",
       "    </tr>\n",
       "    <tr>\n",
       "      <th>3</th>\n",
       "      <td>Afghanistan</td>\n",
       "      <td>Ananas</td>\n",
       "      <td>vegetale</td>\n",
       "      <td>NaN</td>\n",
       "      <td>NaN</td>\n",
       "      <td>0.0</td>\n",
       "      <td>0.00</td>\n",
       "      <td>NaN</td>\n",
       "      <td>NaN</td>\n",
       "      <td>0.0</td>\n",
       "      <td>NaN</td>\n",
       "      <td>0.0</td>\n",
       "      <td>0.0</td>\n",
       "      <td>NaN</td>\n",
       "      <td>NaN</td>\n",
       "      <td>NaN</td>\n",
       "      <td>NaN</td>\n",
       "      <td>NaN</td>\n",
       "    </tr>\n",
       "    <tr>\n",
       "      <th>4</th>\n",
       "      <td>Afghanistan</td>\n",
       "      <td>Bananes</td>\n",
       "      <td>vegetale</td>\n",
       "      <td>NaN</td>\n",
       "      <td>NaN</td>\n",
       "      <td>4.0</td>\n",
       "      <td>2.70</td>\n",
       "      <td>0.02</td>\n",
       "      <td>0.05</td>\n",
       "      <td>82.0</td>\n",
       "      <td>NaN</td>\n",
       "      <td>82.0</td>\n",
       "      <td>82.0</td>\n",
       "      <td>NaN</td>\n",
       "      <td>NaN</td>\n",
       "      <td>NaN</td>\n",
       "      <td>NaN</td>\n",
       "      <td>NaN</td>\n",
       "    </tr>\n",
       "  </tbody>\n",
       "</table>\n",
       "</div>"
      ],
      "text/plain": [
       "          Zone                Produit   Origine  Aliments pour animaux  \\\n",
       "0  Afghanistan       Abats Comestible   animale                    NaN   \n",
       "1  Afghanistan        Agrumes, Autres  vegetale                    NaN   \n",
       "2  Afghanistan  Aliments pour enfants  vegetale                    NaN   \n",
       "3  Afghanistan                 Ananas  vegetale                    NaN   \n",
       "4  Afghanistan                Bananes  vegetale                    NaN   \n",
       "\n",
       "   Autres Utilisations  Disponibilité alimentaire (Kcal/personne/jour)  \\\n",
       "0                  NaN                                             5.0   \n",
       "1                  NaN                                             1.0   \n",
       "2                  NaN                                             1.0   \n",
       "3                  NaN                                             0.0   \n",
       "4                  NaN                                             4.0   \n",
       "\n",
       "   Disponibilité alimentaire en quantité (kg/personne/an)  \\\n",
       "0                                               1.72        \n",
       "1                                               1.29        \n",
       "2                                               0.06        \n",
       "3                                               0.00        \n",
       "4                                               2.70        \n",
       "\n",
       "   Disponibilité de matière grasse en quantité (g/personne/jour)  \\\n",
       "0                                               0.20               \n",
       "1                                               0.01               \n",
       "2                                               0.01               \n",
       "3                                                NaN               \n",
       "4                                               0.02               \n",
       "\n",
       "   Disponibilité de protéines en quantité (g/personne/jour)  \\\n",
       "0                                               0.77          \n",
       "1                                               0.02          \n",
       "2                                               0.03          \n",
       "3                                                NaN          \n",
       "4                                               0.05          \n",
       "\n",
       "   Disponibilité intérieure  Exportations - Quantité  Importations - Quantité  \\\n",
       "0                      53.0                      NaN                      NaN   \n",
       "1                      41.0                      2.0                     40.0   \n",
       "2                       2.0                      NaN                      2.0   \n",
       "3                       0.0                      NaN                      0.0   \n",
       "4                      82.0                      NaN                     82.0   \n",
       "\n",
       "   Nourriture  Pertes  Production  Semences  Traitement  Variation de stock  \n",
       "0        53.0     NaN        53.0       NaN         NaN                 NaN  \n",
       "1        39.0     2.0         3.0       NaN         NaN                 NaN  \n",
       "2         2.0     NaN         NaN       NaN         NaN                 NaN  \n",
       "3         0.0     NaN         NaN       NaN         NaN                 NaN  \n",
       "4        82.0     NaN         NaN       NaN         NaN                 NaN  "
      ]
     },
     "execution_count": 32,
     "metadata": {},
     "output_type": "execute_result"
    }
   ],
   "source": [
    "dispo_alimentaire = pd.read_csv('dispo_alimentaire.csv')\n",
    "dispo_alimentaire.head()"
   ]
  },
  {
   "cell_type": "code",
   "execution_count": 33,
   "id": "3407ed7a",
   "metadata": {},
   "outputs": [
    {
     "data": {
      "text/html": [
       "<div>\n",
       "<style scoped>\n",
       "    .dataframe tbody tr th:only-of-type {\n",
       "        vertical-align: middle;\n",
       "    }\n",
       "\n",
       "    .dataframe tbody tr th {\n",
       "        vertical-align: top;\n",
       "    }\n",
       "\n",
       "    .dataframe thead th {\n",
       "        text-align: right;\n",
       "    }\n",
       "</style>\n",
       "<table border=\"1\" class=\"dataframe\">\n",
       "  <thead>\n",
       "    <tr style=\"text-align: right;\">\n",
       "      <th></th>\n",
       "      <th>Zone</th>\n",
       "      <th>Année</th>\n",
       "      <th>Valeur</th>\n",
       "    </tr>\n",
       "  </thead>\n",
       "  <tbody>\n",
       "    <tr>\n",
       "      <th>0</th>\n",
       "      <td>Afghanistan</td>\n",
       "      <td>2013</td>\n",
       "      <td>32269.589</td>\n",
       "    </tr>\n",
       "    <tr>\n",
       "      <th>1</th>\n",
       "      <td>Afghanistan</td>\n",
       "      <td>2014</td>\n",
       "      <td>33370.794</td>\n",
       "    </tr>\n",
       "    <tr>\n",
       "      <th>2</th>\n",
       "      <td>Afghanistan</td>\n",
       "      <td>2015</td>\n",
       "      <td>34413.603</td>\n",
       "    </tr>\n",
       "    <tr>\n",
       "      <th>3</th>\n",
       "      <td>Afghanistan</td>\n",
       "      <td>2016</td>\n",
       "      <td>35383.032</td>\n",
       "    </tr>\n",
       "    <tr>\n",
       "      <th>4</th>\n",
       "      <td>Afghanistan</td>\n",
       "      <td>2017</td>\n",
       "      <td>36296.113</td>\n",
       "    </tr>\n",
       "  </tbody>\n",
       "</table>\n",
       "</div>"
      ],
      "text/plain": [
       "          Zone  Année     Valeur\n",
       "0  Afghanistan   2013  32269.589\n",
       "1  Afghanistan   2014  33370.794\n",
       "2  Afghanistan   2015  34413.603\n",
       "3  Afghanistan   2016  35383.032\n",
       "4  Afghanistan   2017  36296.113"
      ]
     },
     "execution_count": 33,
     "metadata": {},
     "output_type": "execute_result"
    }
   ],
   "source": [
    "population = pd.read_csv('population.csv')\n",
    "population.head()"
   ]
  },
  {
   "cell_type": "code",
   "execution_count": 34,
   "id": "3cd3e2c1",
   "metadata": {},
   "outputs": [
    {
     "data": {
      "text/html": [
       "<div>\n",
       "<style scoped>\n",
       "    .dataframe tbody tr th:only-of-type {\n",
       "        vertical-align: middle;\n",
       "    }\n",
       "\n",
       "    .dataframe tbody tr th {\n",
       "        vertical-align: top;\n",
       "    }\n",
       "\n",
       "    .dataframe thead th {\n",
       "        text-align: right;\n",
       "    }\n",
       "</style>\n",
       "<table border=\"1\" class=\"dataframe\">\n",
       "  <thead>\n",
       "    <tr style=\"text-align: right;\">\n",
       "      <th></th>\n",
       "      <th>Zone</th>\n",
       "      <th>Année</th>\n",
       "      <th>Valeur</th>\n",
       "    </tr>\n",
       "  </thead>\n",
       "  <tbody>\n",
       "    <tr>\n",
       "      <th>0</th>\n",
       "      <td>Afghanistan</td>\n",
       "      <td>2012-2014</td>\n",
       "      <td>8.6</td>\n",
       "    </tr>\n",
       "    <tr>\n",
       "      <th>1</th>\n",
       "      <td>Afghanistan</td>\n",
       "      <td>2013-2015</td>\n",
       "      <td>8.8</td>\n",
       "    </tr>\n",
       "    <tr>\n",
       "      <th>2</th>\n",
       "      <td>Afghanistan</td>\n",
       "      <td>2014-2016</td>\n",
       "      <td>8.9</td>\n",
       "    </tr>\n",
       "    <tr>\n",
       "      <th>3</th>\n",
       "      <td>Afghanistan</td>\n",
       "      <td>2015-2017</td>\n",
       "      <td>9.7</td>\n",
       "    </tr>\n",
       "    <tr>\n",
       "      <th>4</th>\n",
       "      <td>Afghanistan</td>\n",
       "      <td>2016-2018</td>\n",
       "      <td>10.5</td>\n",
       "    </tr>\n",
       "  </tbody>\n",
       "</table>\n",
       "</div>"
      ],
      "text/plain": [
       "          Zone      Année Valeur\n",
       "0  Afghanistan  2012-2014    8.6\n",
       "1  Afghanistan  2013-2015    8.8\n",
       "2  Afghanistan  2014-2016    8.9\n",
       "3  Afghanistan  2015-2017    9.7\n",
       "4  Afghanistan  2016-2018   10.5"
      ]
     },
     "execution_count": 34,
     "metadata": {},
     "output_type": "execute_result"
    }
   ],
   "source": [
    "sous_nutrition = pd.read_csv('sous_nutrition.csv')\n",
    "sous_nutrition.head()"
   ]
  },
  {
   "cell_type": "markdown",
   "id": "568347a0",
   "metadata": {},
   "source": [
    "# Exploration des types de données"
   ]
  },
  {
   "cell_type": "code",
   "execution_count": 35,
   "id": "dea4057d",
   "metadata": {},
   "outputs": [
    {
     "data": {
      "text/plain": [
       "Pays bénéficiaire    object\n",
       "Année                 int64\n",
       "Produit              object\n",
       "Valeur                int64\n",
       "dtype: object"
      ]
     },
     "execution_count": 35,
     "metadata": {},
     "output_type": "execute_result"
    }
   ],
   "source": [
    "aide_alimentaire.dtypes"
   ]
  },
  {
   "cell_type": "code",
   "execution_count": 36,
   "id": "a6dee222",
   "metadata": {},
   "outputs": [
    {
     "data": {
      "text/plain": [
       "Zone                                                              object\n",
       "Produit                                                           object\n",
       "Origine                                                           object\n",
       "Aliments pour animaux                                            float64\n",
       "Autres Utilisations                                              float64\n",
       "Disponibilité alimentaire (Kcal/personne/jour)                   float64\n",
       "Disponibilité alimentaire en quantité (kg/personne/an)           float64\n",
       "Disponibilité de matière grasse en quantité (g/personne/jour)    float64\n",
       "Disponibilité de protéines en quantité (g/personne/jour)         float64\n",
       "Disponibilité intérieure                                         float64\n",
       "Exportations - Quantité                                          float64\n",
       "Importations - Quantité                                          float64\n",
       "Nourriture                                                       float64\n",
       "Pertes                                                           float64\n",
       "Production                                                       float64\n",
       "Semences                                                         float64\n",
       "Traitement                                                       float64\n",
       "Variation de stock                                               float64\n",
       "dtype: object"
      ]
     },
     "execution_count": 36,
     "metadata": {},
     "output_type": "execute_result"
    }
   ],
   "source": [
    "dispo_alimentaire.dtypes"
   ]
  },
  {
   "cell_type": "code",
   "execution_count": 37,
   "id": "92ecbb1f",
   "metadata": {},
   "outputs": [
    {
     "data": {
      "text/plain": [
       "Zone       object\n",
       "Année       int64\n",
       "Valeur    float64\n",
       "dtype: object"
      ]
     },
     "execution_count": 37,
     "metadata": {},
     "output_type": "execute_result"
    }
   ],
   "source": [
    "population.dtypes"
   ]
  },
  {
   "cell_type": "code",
   "execution_count": 38,
   "id": "a5e93ac9",
   "metadata": {},
   "outputs": [
    {
     "data": {
      "text/plain": [
       "Zone      object\n",
       "Année     object\n",
       "Valeur    object\n",
       "dtype: object"
      ]
     },
     "execution_count": 38,
     "metadata": {},
     "output_type": "execute_result"
    }
   ],
   "source": [
    "sous_nutrition.dtypes"
   ]
  },
  {
   "cell_type": "markdown",
   "id": "de6926c6",
   "metadata": {},
   "source": [
    "# 1. Analyses globales"
   ]
  },
  {
   "cell_type": "markdown",
   "id": "e6251751",
   "metadata": {},
   "source": [
    "## 1.1 Proportion de personnes en état de sous-nutrition"
   ]
  },
  {
   "cell_type": "markdown",
   "id": "218ebfb2",
   "metadata": {},
   "source": [
    "Pour calculer cette proporition, on va utiliser les tables \"population\" et \"sous_nutrition\", vu que la proportion est calculée à travers la formule :\n",
    "\n",
    "- Proportion (%) = (nombre de personnes en état de sous-nutrition)*100 / (population)\n",
    "\n",
    "D'abord, on change le nom de la colonne 'Valeur' de la table sous_nutrition par 'Sous_nutrition' pour la diférencier de la colonne 'Valeur' de la table population :"
   ]
  },
  {
   "cell_type": "code",
   "execution_count": 39,
   "id": "432c4306",
   "metadata": {},
   "outputs": [
    {
     "data": {
      "text/html": [
       "<div>\n",
       "<style scoped>\n",
       "    .dataframe tbody tr th:only-of-type {\n",
       "        vertical-align: middle;\n",
       "    }\n",
       "\n",
       "    .dataframe tbody tr th {\n",
       "        vertical-align: top;\n",
       "    }\n",
       "\n",
       "    .dataframe thead th {\n",
       "        text-align: right;\n",
       "    }\n",
       "</style>\n",
       "<table border=\"1\" class=\"dataframe\">\n",
       "  <thead>\n",
       "    <tr style=\"text-align: right;\">\n",
       "      <th></th>\n",
       "      <th>Zone</th>\n",
       "      <th>Année</th>\n",
       "      <th>Sous_nutrition</th>\n",
       "    </tr>\n",
       "  </thead>\n",
       "  <tbody>\n",
       "    <tr>\n",
       "      <th>0</th>\n",
       "      <td>Afghanistan</td>\n",
       "      <td>2012-2014</td>\n",
       "      <td>8.6</td>\n",
       "    </tr>\n",
       "    <tr>\n",
       "      <th>1</th>\n",
       "      <td>Afghanistan</td>\n",
       "      <td>2013-2015</td>\n",
       "      <td>8.8</td>\n",
       "    </tr>\n",
       "    <tr>\n",
       "      <th>2</th>\n",
       "      <td>Afghanistan</td>\n",
       "      <td>2014-2016</td>\n",
       "      <td>8.9</td>\n",
       "    </tr>\n",
       "    <tr>\n",
       "      <th>3</th>\n",
       "      <td>Afghanistan</td>\n",
       "      <td>2015-2017</td>\n",
       "      <td>9.7</td>\n",
       "    </tr>\n",
       "    <tr>\n",
       "      <th>4</th>\n",
       "      <td>Afghanistan</td>\n",
       "      <td>2016-2018</td>\n",
       "      <td>10.5</td>\n",
       "    </tr>\n",
       "  </tbody>\n",
       "</table>\n",
       "</div>"
      ],
      "text/plain": [
       "          Zone      Année Sous_nutrition\n",
       "0  Afghanistan  2012-2014            8.6\n",
       "1  Afghanistan  2013-2015            8.8\n",
       "2  Afghanistan  2014-2016            8.9\n",
       "3  Afghanistan  2015-2017            9.7\n",
       "4  Afghanistan  2016-2018           10.5"
      ]
     },
     "execution_count": 39,
     "metadata": {},
     "output_type": "execute_result"
    }
   ],
   "source": [
    "sous_nutrition.rename(columns={'Valeur':'Sous_nutrition'}, inplace=True)\n",
    "sous_nutrition.head()"
   ]
  },
  {
   "cell_type": "markdown",
   "id": "e2ce5168",
   "metadata": {},
   "source": [
    "Et on change aussi le nom de la colonne 'Valeur' de la table population par 'Population':"
   ]
  },
  {
   "cell_type": "code",
   "execution_count": 40,
   "id": "f7fb682f",
   "metadata": {},
   "outputs": [
    {
     "data": {
      "text/html": [
       "<div>\n",
       "<style scoped>\n",
       "    .dataframe tbody tr th:only-of-type {\n",
       "        vertical-align: middle;\n",
       "    }\n",
       "\n",
       "    .dataframe tbody tr th {\n",
       "        vertical-align: top;\n",
       "    }\n",
       "\n",
       "    .dataframe thead th {\n",
       "        text-align: right;\n",
       "    }\n",
       "</style>\n",
       "<table border=\"1\" class=\"dataframe\">\n",
       "  <thead>\n",
       "    <tr style=\"text-align: right;\">\n",
       "      <th></th>\n",
       "      <th>Zone</th>\n",
       "      <th>Année</th>\n",
       "      <th>Population</th>\n",
       "    </tr>\n",
       "  </thead>\n",
       "  <tbody>\n",
       "    <tr>\n",
       "      <th>0</th>\n",
       "      <td>Afghanistan</td>\n",
       "      <td>2013</td>\n",
       "      <td>32269.589</td>\n",
       "    </tr>\n",
       "    <tr>\n",
       "      <th>1</th>\n",
       "      <td>Afghanistan</td>\n",
       "      <td>2014</td>\n",
       "      <td>33370.794</td>\n",
       "    </tr>\n",
       "    <tr>\n",
       "      <th>2</th>\n",
       "      <td>Afghanistan</td>\n",
       "      <td>2015</td>\n",
       "      <td>34413.603</td>\n",
       "    </tr>\n",
       "    <tr>\n",
       "      <th>3</th>\n",
       "      <td>Afghanistan</td>\n",
       "      <td>2016</td>\n",
       "      <td>35383.032</td>\n",
       "    </tr>\n",
       "    <tr>\n",
       "      <th>4</th>\n",
       "      <td>Afghanistan</td>\n",
       "      <td>2017</td>\n",
       "      <td>36296.113</td>\n",
       "    </tr>\n",
       "  </tbody>\n",
       "</table>\n",
       "</div>"
      ],
      "text/plain": [
       "          Zone  Année  Population\n",
       "0  Afghanistan   2013   32269.589\n",
       "1  Afghanistan   2014   33370.794\n",
       "2  Afghanistan   2015   34413.603\n",
       "3  Afghanistan   2016   35383.032\n",
       "4  Afghanistan   2017   36296.113"
      ]
     },
     "execution_count": 40,
     "metadata": {},
     "output_type": "execute_result"
    }
   ],
   "source": [
    "population.rename(columns={'Valeur':'Population'}, inplace=True)\n",
    "population.head()"
   ]
  },
  {
   "cell_type": "markdown",
   "id": "8e20e246",
   "metadata": {},
   "source": [
    "La colonne 'Sous-nutrition' est du type objet. Il faut la changer par le type float :"
   ]
  },
  {
   "cell_type": "code",
   "execution_count": 41,
   "id": "988e4801",
   "metadata": {},
   "outputs": [
    {
     "ename": "ValueError",
     "evalue": "Unable to parse string \"<0.1\" at position 60",
     "output_type": "error",
     "traceback": [
      "\u001b[1;31m---------------------------------------------------------------------------\u001b[0m",
      "\u001b[1;31mValueError\u001b[0m                                Traceback (most recent call last)",
      "File \u001b[1;32m~\\anaconda3\\lib\\site-packages\\pandas\\_libs\\lib.pyx:2315\u001b[0m, in \u001b[0;36mpandas._libs.lib.maybe_convert_numeric\u001b[1;34m()\u001b[0m\n",
      "\u001b[1;31mValueError\u001b[0m: Unable to parse string \"<0.1\"",
      "\nDuring handling of the above exception, another exception occurred:\n",
      "\u001b[1;31mValueError\u001b[0m                                Traceback (most recent call last)",
      "Input \u001b[1;32mIn [41]\u001b[0m, in \u001b[0;36m<cell line: 1>\u001b[1;34m()\u001b[0m\n\u001b[1;32m----> 1\u001b[0m sous_nutrition[\u001b[38;5;124m'\u001b[39m\u001b[38;5;124mSous_nutrition\u001b[39m\u001b[38;5;124m'\u001b[39m] \u001b[38;5;241m=\u001b[39m \u001b[43mpd\u001b[49m\u001b[38;5;241;43m.\u001b[39;49m\u001b[43mto_numeric\u001b[49m\u001b[43m(\u001b[49m\u001b[43msous_nutrition\u001b[49m\u001b[43m[\u001b[49m\u001b[38;5;124;43m'\u001b[39;49m\u001b[38;5;124;43mSous_nutrition\u001b[39;49m\u001b[38;5;124;43m'\u001b[39;49m\u001b[43m]\u001b[49m\u001b[43m)\u001b[49m\n",
      "File \u001b[1;32m~\\anaconda3\\lib\\site-packages\\pandas\\core\\tools\\numeric.py:184\u001b[0m, in \u001b[0;36mto_numeric\u001b[1;34m(arg, errors, downcast)\u001b[0m\n\u001b[0;32m    182\u001b[0m coerce_numeric \u001b[38;5;241m=\u001b[39m errors \u001b[38;5;129;01mnot\u001b[39;00m \u001b[38;5;129;01min\u001b[39;00m (\u001b[38;5;124m\"\u001b[39m\u001b[38;5;124mignore\u001b[39m\u001b[38;5;124m\"\u001b[39m, \u001b[38;5;124m\"\u001b[39m\u001b[38;5;124mraise\u001b[39m\u001b[38;5;124m\"\u001b[39m)\n\u001b[0;32m    183\u001b[0m \u001b[38;5;28;01mtry\u001b[39;00m:\n\u001b[1;32m--> 184\u001b[0m     values, _ \u001b[38;5;241m=\u001b[39m \u001b[43mlib\u001b[49m\u001b[38;5;241;43m.\u001b[39;49m\u001b[43mmaybe_convert_numeric\u001b[49m\u001b[43m(\u001b[49m\n\u001b[0;32m    185\u001b[0m \u001b[43m        \u001b[49m\u001b[43mvalues\u001b[49m\u001b[43m,\u001b[49m\u001b[43m \u001b[49m\u001b[38;5;28;43mset\u001b[39;49m\u001b[43m(\u001b[49m\u001b[43m)\u001b[49m\u001b[43m,\u001b[49m\u001b[43m \u001b[49m\u001b[43mcoerce_numeric\u001b[49m\u001b[38;5;241;43m=\u001b[39;49m\u001b[43mcoerce_numeric\u001b[49m\n\u001b[0;32m    186\u001b[0m \u001b[43m    \u001b[49m\u001b[43m)\u001b[49m\n\u001b[0;32m    187\u001b[0m \u001b[38;5;28;01mexcept\u001b[39;00m (\u001b[38;5;167;01mValueError\u001b[39;00m, \u001b[38;5;167;01mTypeError\u001b[39;00m):\n\u001b[0;32m    188\u001b[0m     \u001b[38;5;28;01mif\u001b[39;00m errors \u001b[38;5;241m==\u001b[39m \u001b[38;5;124m\"\u001b[39m\u001b[38;5;124mraise\u001b[39m\u001b[38;5;124m\"\u001b[39m:\n",
      "File \u001b[1;32m~\\anaconda3\\lib\\site-packages\\pandas\\_libs\\lib.pyx:2357\u001b[0m, in \u001b[0;36mpandas._libs.lib.maybe_convert_numeric\u001b[1;34m()\u001b[0m\n",
      "\u001b[1;31mValueError\u001b[0m: Unable to parse string \"<0.1\" at position 60"
     ]
    }
   ],
   "source": [
    "sous_nutrition['Sous_nutrition'] = pd.to_numeric(sous_nutrition['Sous_nutrition'])"
   ]
  },
  {
   "cell_type": "markdown",
   "id": "da3cae82",
   "metadata": {},
   "source": [
    "On a un message d'erreur nous disant qu'il y a une valeur \"<0.1\" à l'index 60 :"
   ]
  },
  {
   "cell_type": "code",
   "execution_count": 42,
   "id": "1706a9d2",
   "metadata": {},
   "outputs": [
    {
     "name": "stdout",
     "output_type": "stream",
     "text": [
      "Zone                Arménie\n",
      "Année             2012-2014\n",
      "Sous_nutrition         <0.1\n",
      "Name: 60, dtype: object\n"
     ]
    }
   ],
   "source": [
    "print(sous_nutrition.iloc[60,:])"
   ]
  },
  {
   "cell_type": "markdown",
   "id": "d228e974",
   "metadata": {},
   "source": [
    "On doit retirer le symbole '<'. On va considerer, donc, que cette valeur est égale à 0."
   ]
  },
  {
   "cell_type": "code",
   "execution_count": 43,
   "id": "5fab3c68",
   "metadata": {},
   "outputs": [
    {
     "name": "stdout",
     "output_type": "stream",
     "text": [
      "Zone                Arménie\n",
      "Année             2012-2014\n",
      "Sous_nutrition            0\n",
      "Name: 60, dtype: object\n"
     ]
    }
   ],
   "source": [
    "sous_nutrition['Sous_nutrition'] = np.where((sous_nutrition.Sous_nutrition == '<0.1'), 0, sous_nutrition.Sous_nutrition)\n",
    "print(sous_nutrition.iloc[60,:])"
   ]
  },
  {
   "cell_type": "markdown",
   "id": "3153f678",
   "metadata": {},
   "source": [
    "Maintenaint on peut changer la colonne 'Sous_nutrition' par le type float. "
   ]
  },
  {
   "cell_type": "code",
   "execution_count": 44,
   "id": "3804050f",
   "metadata": {
    "scrolled": false
   },
   "outputs": [
    {
     "name": "stdout",
     "output_type": "stream",
     "text": [
      "Zone               object\n",
      "Année              object\n",
      "Sous_nutrition    float64\n",
      "dtype: object\n"
     ]
    }
   ],
   "source": [
    "sous_nutrition['Sous_nutrition'] = pd.to_numeric(sous_nutrition['Sous_nutrition'])\n",
    "print(sous_nutrition.dtypes)"
   ]
  },
  {
   "cell_type": "markdown",
   "id": "9f103f55",
   "metadata": {},
   "source": [
    "Et on change l'unité de 'Sous_nutrition' (exprimée millions) en  et 'Population' (exprimée en milliers) :"
   ]
  },
  {
   "cell_type": "code",
   "execution_count": 45,
   "id": "e822b3ac",
   "metadata": {},
   "outputs": [
    {
     "data": {
      "text/html": [
       "<div>\n",
       "<style scoped>\n",
       "    .dataframe tbody tr th:only-of-type {\n",
       "        vertical-align: middle;\n",
       "    }\n",
       "\n",
       "    .dataframe tbody tr th {\n",
       "        vertical-align: top;\n",
       "    }\n",
       "\n",
       "    .dataframe thead th {\n",
       "        text-align: right;\n",
       "    }\n",
       "</style>\n",
       "<table border=\"1\" class=\"dataframe\">\n",
       "  <thead>\n",
       "    <tr style=\"text-align: right;\">\n",
       "      <th></th>\n",
       "      <th>Zone</th>\n",
       "      <th>Année</th>\n",
       "      <th>Sous_nutrition</th>\n",
       "    </tr>\n",
       "  </thead>\n",
       "  <tbody>\n",
       "    <tr>\n",
       "      <th>0</th>\n",
       "      <td>Afghanistan</td>\n",
       "      <td>2012-2014</td>\n",
       "      <td>8600000.0</td>\n",
       "    </tr>\n",
       "    <tr>\n",
       "      <th>1</th>\n",
       "      <td>Afghanistan</td>\n",
       "      <td>2013-2015</td>\n",
       "      <td>8800000.0</td>\n",
       "    </tr>\n",
       "    <tr>\n",
       "      <th>2</th>\n",
       "      <td>Afghanistan</td>\n",
       "      <td>2014-2016</td>\n",
       "      <td>8900000.0</td>\n",
       "    </tr>\n",
       "    <tr>\n",
       "      <th>3</th>\n",
       "      <td>Afghanistan</td>\n",
       "      <td>2015-2017</td>\n",
       "      <td>9700000.0</td>\n",
       "    </tr>\n",
       "    <tr>\n",
       "      <th>4</th>\n",
       "      <td>Afghanistan</td>\n",
       "      <td>2016-2018</td>\n",
       "      <td>10500000.0</td>\n",
       "    </tr>\n",
       "  </tbody>\n",
       "</table>\n",
       "</div>"
      ],
      "text/plain": [
       "          Zone      Année  Sous_nutrition\n",
       "0  Afghanistan  2012-2014       8600000.0\n",
       "1  Afghanistan  2013-2015       8800000.0\n",
       "2  Afghanistan  2014-2016       8900000.0\n",
       "3  Afghanistan  2015-2017       9700000.0\n",
       "4  Afghanistan  2016-2018      10500000.0"
      ]
     },
     "execution_count": 45,
     "metadata": {},
     "output_type": "execute_result"
    }
   ],
   "source": [
    "sous_nutrition['Sous_nutrition'] = sous_nutrition['Sous_nutrition']*1000000\n",
    "sous_nutrition.head()"
   ]
  },
  {
   "cell_type": "code",
   "execution_count": 46,
   "id": "44aa0ec9",
   "metadata": {},
   "outputs": [
    {
     "data": {
      "text/html": [
       "<div>\n",
       "<style scoped>\n",
       "    .dataframe tbody tr th:only-of-type {\n",
       "        vertical-align: middle;\n",
       "    }\n",
       "\n",
       "    .dataframe tbody tr th {\n",
       "        vertical-align: top;\n",
       "    }\n",
       "\n",
       "    .dataframe thead th {\n",
       "        text-align: right;\n",
       "    }\n",
       "</style>\n",
       "<table border=\"1\" class=\"dataframe\">\n",
       "  <thead>\n",
       "    <tr style=\"text-align: right;\">\n",
       "      <th></th>\n",
       "      <th>Zone</th>\n",
       "      <th>Année</th>\n",
       "      <th>Population</th>\n",
       "    </tr>\n",
       "  </thead>\n",
       "  <tbody>\n",
       "    <tr>\n",
       "      <th>0</th>\n",
       "      <td>Afghanistan</td>\n",
       "      <td>2013</td>\n",
       "      <td>32269589.0</td>\n",
       "    </tr>\n",
       "    <tr>\n",
       "      <th>1</th>\n",
       "      <td>Afghanistan</td>\n",
       "      <td>2014</td>\n",
       "      <td>33370794.0</td>\n",
       "    </tr>\n",
       "    <tr>\n",
       "      <th>2</th>\n",
       "      <td>Afghanistan</td>\n",
       "      <td>2015</td>\n",
       "      <td>34413603.0</td>\n",
       "    </tr>\n",
       "    <tr>\n",
       "      <th>3</th>\n",
       "      <td>Afghanistan</td>\n",
       "      <td>2016</td>\n",
       "      <td>35383032.0</td>\n",
       "    </tr>\n",
       "    <tr>\n",
       "      <th>4</th>\n",
       "      <td>Afghanistan</td>\n",
       "      <td>2017</td>\n",
       "      <td>36296113.0</td>\n",
       "    </tr>\n",
       "  </tbody>\n",
       "</table>\n",
       "</div>"
      ],
      "text/plain": [
       "          Zone  Année  Population\n",
       "0  Afghanistan   2013  32269589.0\n",
       "1  Afghanistan   2014  33370794.0\n",
       "2  Afghanistan   2015  34413603.0\n",
       "3  Afghanistan   2016  35383032.0\n",
       "4  Afghanistan   2017  36296113.0"
      ]
     },
     "execution_count": 46,
     "metadata": {},
     "output_type": "execute_result"
    }
   ],
   "source": [
    "population['Population'] = population['Population']*1000\n",
    "population.head()"
   ]
  },
  {
   "cell_type": "markdown",
   "id": "979dd5f5",
   "metadata": {},
   "source": [
    "La table sous_nutrition affiche la moyenne des valeurs pour les trois années de la plage de la colonne 'Année'. On peut donc considérer que année = médiane de la plage.\n",
    "\n",
    "Ainsi :"
   ]
  },
  {
   "cell_type": "code",
   "execution_count": 47,
   "id": "2e4a5f6d",
   "metadata": {},
   "outputs": [
    {
     "data": {
      "text/plain": [
       "array(['2012-2014', '2013-2015', '2014-2016', '2015-2017', '2016-2018',\n",
       "       '2017-2019'], dtype=object)"
      ]
     },
     "execution_count": 47,
     "metadata": {},
     "output_type": "execute_result"
    }
   ],
   "source": [
    "sous_nutrition.Année.unique()"
   ]
  },
  {
   "cell_type": "code",
   "execution_count": 48,
   "id": "12fc4039",
   "metadata": {},
   "outputs": [
    {
     "data": {
      "text/html": [
       "<div>\n",
       "<style scoped>\n",
       "    .dataframe tbody tr th:only-of-type {\n",
       "        vertical-align: middle;\n",
       "    }\n",
       "\n",
       "    .dataframe tbody tr th {\n",
       "        vertical-align: top;\n",
       "    }\n",
       "\n",
       "    .dataframe thead th {\n",
       "        text-align: right;\n",
       "    }\n",
       "</style>\n",
       "<table border=\"1\" class=\"dataframe\">\n",
       "  <thead>\n",
       "    <tr style=\"text-align: right;\">\n",
       "      <th></th>\n",
       "      <th>Zone</th>\n",
       "      <th>Année</th>\n",
       "      <th>Sous_nutrition</th>\n",
       "    </tr>\n",
       "  </thead>\n",
       "  <tbody>\n",
       "    <tr>\n",
       "      <th>0</th>\n",
       "      <td>Afghanistan</td>\n",
       "      <td>2013</td>\n",
       "      <td>8600000.0</td>\n",
       "    </tr>\n",
       "    <tr>\n",
       "      <th>1</th>\n",
       "      <td>Afghanistan</td>\n",
       "      <td>2014</td>\n",
       "      <td>8800000.0</td>\n",
       "    </tr>\n",
       "    <tr>\n",
       "      <th>2</th>\n",
       "      <td>Afghanistan</td>\n",
       "      <td>2015</td>\n",
       "      <td>8900000.0</td>\n",
       "    </tr>\n",
       "    <tr>\n",
       "      <th>3</th>\n",
       "      <td>Afghanistan</td>\n",
       "      <td>2016</td>\n",
       "      <td>9700000.0</td>\n",
       "    </tr>\n",
       "    <tr>\n",
       "      <th>4</th>\n",
       "      <td>Afghanistan</td>\n",
       "      <td>2017</td>\n",
       "      <td>10500000.0</td>\n",
       "    </tr>\n",
       "  </tbody>\n",
       "</table>\n",
       "</div>"
      ],
      "text/plain": [
       "          Zone Année  Sous_nutrition\n",
       "0  Afghanistan  2013       8600000.0\n",
       "1  Afghanistan  2014       8800000.0\n",
       "2  Afghanistan  2015       8900000.0\n",
       "3  Afghanistan  2016       9700000.0\n",
       "4  Afghanistan  2017      10500000.0"
      ]
     },
     "execution_count": 48,
     "metadata": {},
     "output_type": "execute_result"
    }
   ],
   "source": [
    "sous_nutrition.loc[sous_nutrition['Année']== '2012-2014', 'Année'] = 2013\n",
    "sous_nutrition.loc[sous_nutrition['Année']== '2013-2015', 'Année'] = 2014\n",
    "sous_nutrition.loc[sous_nutrition['Année']== '2014-2016', 'Année'] = 2015\n",
    "sous_nutrition.loc[sous_nutrition['Année']== '2015-2017', 'Année'] = 2016\n",
    "sous_nutrition.loc[sous_nutrition['Année']== '2016-2018', 'Année'] = 2017\n",
    "sous_nutrition.loc[sous_nutrition['Année']== '2017-2019', 'Année'] = 2018\n",
    "sous_nutrition.head()"
   ]
  },
  {
   "cell_type": "markdown",
   "id": "de7eec51",
   "metadata": {},
   "source": [
    "Finalement, on va pouvoir fusionner les deux tables dans une table pop_sous_nut :"
   ]
  },
  {
   "cell_type": "code",
   "execution_count": 49,
   "id": "38af7abc",
   "metadata": {},
   "outputs": [
    {
     "data": {
      "text/html": [
       "<div>\n",
       "<style scoped>\n",
       "    .dataframe tbody tr th:only-of-type {\n",
       "        vertical-align: middle;\n",
       "    }\n",
       "\n",
       "    .dataframe tbody tr th {\n",
       "        vertical-align: top;\n",
       "    }\n",
       "\n",
       "    .dataframe thead th {\n",
       "        text-align: right;\n",
       "    }\n",
       "</style>\n",
       "<table border=\"1\" class=\"dataframe\">\n",
       "  <thead>\n",
       "    <tr style=\"text-align: right;\">\n",
       "      <th></th>\n",
       "      <th>Zone</th>\n",
       "      <th>Année</th>\n",
       "      <th>Population</th>\n",
       "      <th>Sous_nutrition</th>\n",
       "    </tr>\n",
       "  </thead>\n",
       "  <tbody>\n",
       "    <tr>\n",
       "      <th>0</th>\n",
       "      <td>Afghanistan</td>\n",
       "      <td>2013</td>\n",
       "      <td>32269589.0</td>\n",
       "      <td>8600000.0</td>\n",
       "    </tr>\n",
       "    <tr>\n",
       "      <th>1</th>\n",
       "      <td>Afghanistan</td>\n",
       "      <td>2014</td>\n",
       "      <td>33370794.0</td>\n",
       "      <td>8800000.0</td>\n",
       "    </tr>\n",
       "    <tr>\n",
       "      <th>2</th>\n",
       "      <td>Afghanistan</td>\n",
       "      <td>2015</td>\n",
       "      <td>34413603.0</td>\n",
       "      <td>8900000.0</td>\n",
       "    </tr>\n",
       "    <tr>\n",
       "      <th>3</th>\n",
       "      <td>Afghanistan</td>\n",
       "      <td>2016</td>\n",
       "      <td>35383032.0</td>\n",
       "      <td>9700000.0</td>\n",
       "    </tr>\n",
       "    <tr>\n",
       "      <th>4</th>\n",
       "      <td>Afghanistan</td>\n",
       "      <td>2017</td>\n",
       "      <td>36296113.0</td>\n",
       "      <td>10500000.0</td>\n",
       "    </tr>\n",
       "  </tbody>\n",
       "</table>\n",
       "</div>"
      ],
      "text/plain": [
       "          Zone Année  Population  Sous_nutrition\n",
       "0  Afghanistan  2013  32269589.0       8600000.0\n",
       "1  Afghanistan  2014  33370794.0       8800000.0\n",
       "2  Afghanistan  2015  34413603.0       8900000.0\n",
       "3  Afghanistan  2016  35383032.0       9700000.0\n",
       "4  Afghanistan  2017  36296113.0      10500000.0"
      ]
     },
     "execution_count": 49,
     "metadata": {},
     "output_type": "execute_result"
    }
   ],
   "source": [
    "pop_sous_nut = pd.merge(population, sous_nutrition, on=['Zone','Année'])\n",
    "pop_sous_nut.head()"
   ]
  },
  {
   "cell_type": "markdown",
   "id": "2abfc7e4",
   "metadata": {},
   "source": [
    "On ne veut que les données de 2017 :"
   ]
  },
  {
   "cell_type": "code",
   "execution_count": 50,
   "id": "54f8c8a1",
   "metadata": {},
   "outputs": [
    {
     "data": {
      "text/html": [
       "<div>\n",
       "<style scoped>\n",
       "    .dataframe tbody tr th:only-of-type {\n",
       "        vertical-align: middle;\n",
       "    }\n",
       "\n",
       "    .dataframe tbody tr th {\n",
       "        vertical-align: top;\n",
       "    }\n",
       "\n",
       "    .dataframe thead th {\n",
       "        text-align: right;\n",
       "    }\n",
       "</style>\n",
       "<table border=\"1\" class=\"dataframe\">\n",
       "  <thead>\n",
       "    <tr style=\"text-align: right;\">\n",
       "      <th></th>\n",
       "      <th>Zone</th>\n",
       "      <th>Année</th>\n",
       "      <th>Population</th>\n",
       "      <th>Sous_nutrition</th>\n",
       "    </tr>\n",
       "  </thead>\n",
       "  <tbody>\n",
       "    <tr>\n",
       "      <th>4</th>\n",
       "      <td>Afghanistan</td>\n",
       "      <td>2017</td>\n",
       "      <td>36296113.0</td>\n",
       "      <td>10500000.0</td>\n",
       "    </tr>\n",
       "    <tr>\n",
       "      <th>10</th>\n",
       "      <td>Afrique du Sud</td>\n",
       "      <td>2017</td>\n",
       "      <td>57009756.0</td>\n",
       "      <td>3100000.0</td>\n",
       "    </tr>\n",
       "    <tr>\n",
       "      <th>16</th>\n",
       "      <td>Albanie</td>\n",
       "      <td>2017</td>\n",
       "      <td>2884169.0</td>\n",
       "      <td>100000.0</td>\n",
       "    </tr>\n",
       "    <tr>\n",
       "      <th>22</th>\n",
       "      <td>Algérie</td>\n",
       "      <td>2017</td>\n",
       "      <td>41389189.0</td>\n",
       "      <td>1300000.0</td>\n",
       "    </tr>\n",
       "    <tr>\n",
       "      <th>28</th>\n",
       "      <td>Allemagne</td>\n",
       "      <td>2017</td>\n",
       "      <td>82658409.0</td>\n",
       "      <td>NaN</td>\n",
       "    </tr>\n",
       "  </tbody>\n",
       "</table>\n",
       "</div>"
      ],
      "text/plain": [
       "              Zone Année  Population  Sous_nutrition\n",
       "4      Afghanistan  2017  36296113.0      10500000.0\n",
       "10  Afrique du Sud  2017  57009756.0       3100000.0\n",
       "16         Albanie  2017   2884169.0        100000.0\n",
       "22         Algérie  2017  41389189.0       1300000.0\n",
       "28       Allemagne  2017  82658409.0             NaN"
      ]
     },
     "execution_count": 50,
     "metadata": {},
     "output_type": "execute_result"
    }
   ],
   "source": [
    "pop_sous_nut_2017 = pop_sous_nut.loc[pop_sous_nut['Année']==2017,:].copy()\n",
    "pop_sous_nut_2017.head()"
   ]
  },
  {
   "cell_type": "markdown",
   "id": "e8198d53",
   "metadata": {},
   "source": [
    "On peut calculer la proportion de personnes en état de sous nutrition par pays : "
   ]
  },
  {
   "cell_type": "code",
   "execution_count": 51,
   "id": "2d1104be",
   "metadata": {
    "scrolled": true
   },
   "outputs": [
    {
     "data": {
      "text/html": [
       "<div>\n",
       "<style scoped>\n",
       "    .dataframe tbody tr th:only-of-type {\n",
       "        vertical-align: middle;\n",
       "    }\n",
       "\n",
       "    .dataframe tbody tr th {\n",
       "        vertical-align: top;\n",
       "    }\n",
       "\n",
       "    .dataframe thead th {\n",
       "        text-align: right;\n",
       "    }\n",
       "</style>\n",
       "<table border=\"1\" class=\"dataframe\">\n",
       "  <thead>\n",
       "    <tr style=\"text-align: right;\">\n",
       "      <th></th>\n",
       "      <th>Zone</th>\n",
       "      <th>Année</th>\n",
       "      <th>Population</th>\n",
       "      <th>Sous_nutrition</th>\n",
       "      <th>Proportion_sous_nut</th>\n",
       "    </tr>\n",
       "  </thead>\n",
       "  <tbody>\n",
       "    <tr>\n",
       "      <th>4</th>\n",
       "      <td>Afghanistan</td>\n",
       "      <td>2017</td>\n",
       "      <td>36296113.0</td>\n",
       "      <td>10500000.0</td>\n",
       "      <td>28.93</td>\n",
       "    </tr>\n",
       "    <tr>\n",
       "      <th>10</th>\n",
       "      <td>Afrique du Sud</td>\n",
       "      <td>2017</td>\n",
       "      <td>57009756.0</td>\n",
       "      <td>3100000.0</td>\n",
       "      <td>5.44</td>\n",
       "    </tr>\n",
       "    <tr>\n",
       "      <th>16</th>\n",
       "      <td>Albanie</td>\n",
       "      <td>2017</td>\n",
       "      <td>2884169.0</td>\n",
       "      <td>100000.0</td>\n",
       "      <td>3.47</td>\n",
       "    </tr>\n",
       "    <tr>\n",
       "      <th>22</th>\n",
       "      <td>Algérie</td>\n",
       "      <td>2017</td>\n",
       "      <td>41389189.0</td>\n",
       "      <td>1300000.0</td>\n",
       "      <td>3.14</td>\n",
       "    </tr>\n",
       "    <tr>\n",
       "      <th>28</th>\n",
       "      <td>Allemagne</td>\n",
       "      <td>2017</td>\n",
       "      <td>82658409.0</td>\n",
       "      <td>NaN</td>\n",
       "      <td>NaN</td>\n",
       "    </tr>\n",
       "  </tbody>\n",
       "</table>\n",
       "</div>"
      ],
      "text/plain": [
       "              Zone Année  Population  Sous_nutrition  Proportion_sous_nut\n",
       "4      Afghanistan  2017  36296113.0      10500000.0                28.93\n",
       "10  Afrique du Sud  2017  57009756.0       3100000.0                 5.44\n",
       "16         Albanie  2017   2884169.0        100000.0                 3.47\n",
       "22         Algérie  2017  41389189.0       1300000.0                 3.14\n",
       "28       Allemagne  2017  82658409.0             NaN                  NaN"
      ]
     },
     "execution_count": 51,
     "metadata": {},
     "output_type": "execute_result"
    }
   ],
   "source": [
    "pop_sous_nut_2017['Proportion_sous_nut'] = round(pop_sous_nut_2017['Sous_nutrition']*100 / pop_sous_nut_2017['Population'],2)\n",
    "pop_sous_nut_2017.head()"
   ]
  },
  {
   "cell_type": "markdown",
   "id": "8715df4f",
   "metadata": {},
   "source": [
    "Et la proportion de personnes en état de sous nutrition globalement :"
   ]
  },
  {
   "cell_type": "code",
   "execution_count": 54,
   "id": "a1c3bc99",
   "metadata": {},
   "outputs": [],
   "source": [
    "pop_total_2017 = pop_sous_nut_2017['Population'].sum()\n",
    "\n",
    "sous_total_2017 = pop_sous_nut_2017['Sous_nutrition'].sum()\n",
    "\n",
    "prop_total_2017 = round(sous_total_2017*100/pop_total_2017,2)"
   ]
  },
  {
   "cell_type": "code",
   "execution_count": 461,
   "id": "0922dfa2",
   "metadata": {},
   "outputs": [
    {
     "data": {
      "image/png": "[encoded data removed]",
      "text/plain": [
       "<Figure size 432x288 with 1 Axes>"
      ]
     },
     "metadata": {
      "needs_background": "light"
     },
     "output_type": "display_data"
    }
   ],
   "source": [
    "data_graph = ['']\n",
    "plt.bar(data_graph, pop_total_2017, color = 'skyblue', edgecolor='black')\n",
    "plt.bar(data_graph, sous_total_2017, color = 'orangered', label = \"Personnes en état de sous nutrition\", edgecolor='black')\n",
    "plt.legend(loc=\"lower left\",bbox_to_anchor=(1.1,0))\n",
    "plt.ylabel(\"Population (milliards de personnes)\")\n",
    "plt.title(\"Nombre de personnes en état de sous nutrition mondialement en 2017\", fontsize = 15, fontweight = 'bold')\n",
    "plt.show()"
   ]
  },
  {
   "cell_type": "code",
   "execution_count": 415,
   "id": "7b0b29e7",
   "metadata": {},
   "outputs": [
    {
     "name": "stdout",
     "output_type": "stream",
     "text": [
      "En 2017, la population mondiale était de 7 543 798 779.0 personnes, dont un total de  535 700 000.0 personnes en état de sous nutrition.\n",
      "Globalement, la proportion de personnes en état de sous nutrition en 2017 est de  7.1 %.\n"
     ]
    }
   ],
   "source": [
    "import locale\n",
    "locale.setlocale(locale.LC_ALL, '')\n",
    "\n",
    "print(\"En 2017, la population mondiale était de\", '{:,}'.format(pop_total_2017).replace(',', ' '),\n",
    "      \"personnes, dont un total de \", '{:,}'.format(sous_total_2017).replace(',', ' '), \"personnes en état de sous nutrition.\")\n",
    "\n",
    "print(\"Globalement, la proportion de personnes en état de sous nutrition en 2017 est de \", \n",
    "      '{:,}'.format(prop_total_2017).replace(',', ' '),\"%.\")"
   ]
  },
  {
   "cell_type": "markdown",
   "id": "b6247720",
   "metadata": {},
   "source": [
    "### Proportion de personnes en état de sous-nutrition en 2017 = 7.1%."
   ]
  },
  {
   "cell_type": "code",
   "execution_count": 518,
   "id": "d87a5bcb",
   "metadata": {},
   "outputs": [
    {
     "data": {
      "image/png": "[encoded data removed]",
      "text/plain": [
       "<Figure size 504x504 with 1 Axes>"
      ]
     },
     "metadata": {},
     "output_type": "display_data"
    }
   ],
   "source": [
    "sous_plot = [(pop_total_2017-sous_total_2017), sous_total_2017] \n",
    "sous_labels = ['Personnes en état de nutrition standard','Personnes en état de sous-nutrition']\n",
    "plt.figure(figsize = (7,7))\n",
    "plt.pie(sous_plot, labels = sous_labels, autopct='%.2f%%',pctdistance=0.71,shadow=True, explode=(0, 0.3))\n",
    "plt.title('Proportion de la population en sous-nutrition en 2017', fontsize = 15, fontweight ='bold')\n",
    "plt.show()"
   ]
  },
  {
   "cell_type": "markdown",
   "id": "7d6f2e33",
   "metadata": {},
   "source": [
    "## 1.2 Nombre théorique de personnes qui pourraient être nourries"
   ]
  },
  {
   "cell_type": "markdown",
   "id": "9b28bd73",
   "metadata": {},
   "source": [
    "On peut le calculer via la disponibilité alimentaire mondiale et la population mondiale. \n",
    "\n",
    "On va utiliser la disponibilité alimentaire en kcal/personne/jour et la multiplier par la population, pour qu'on sache combien de kcal sont disponibles par jour mondialement. Enfin, si on considère qu'une personne a besoin en moyenne de 2000 kcal/jour, on saura combien de personnes peuvent être nourries à travers le calcul :\n",
    "\n",
    "- Nombre de personnes = (disponibilité alimentaire)*(population) / (2000)\n",
    "\n",
    "Le fichier disponibilité alimentaire mondiale est pour l'année de 2013, donc utilisera cette année pour nos calculs."
   ]
  },
  {
   "cell_type": "code",
   "execution_count": 64,
   "id": "0c3a0fa4",
   "metadata": {},
   "outputs": [
    {
     "data": {
      "text/html": [
       "<div>\n",
       "<style scoped>\n",
       "    .dataframe tbody tr th:only-of-type {\n",
       "        vertical-align: middle;\n",
       "    }\n",
       "\n",
       "    .dataframe tbody tr th {\n",
       "        vertical-align: top;\n",
       "    }\n",
       "\n",
       "    .dataframe thead th {\n",
       "        text-align: right;\n",
       "    }\n",
       "</style>\n",
       "<table border=\"1\" class=\"dataframe\">\n",
       "  <thead>\n",
       "    <tr style=\"text-align: right;\">\n",
       "      <th></th>\n",
       "      <th>Zone</th>\n",
       "      <th>Année</th>\n",
       "      <th>Population</th>\n",
       "    </tr>\n",
       "  </thead>\n",
       "  <tbody>\n",
       "    <tr>\n",
       "      <th>0</th>\n",
       "      <td>Afghanistan</td>\n",
       "      <td>2013</td>\n",
       "      <td>32269589.0</td>\n",
       "    </tr>\n",
       "    <tr>\n",
       "      <th>6</th>\n",
       "      <td>Afrique du Sud</td>\n",
       "      <td>2013</td>\n",
       "      <td>53687121.0</td>\n",
       "    </tr>\n",
       "    <tr>\n",
       "      <th>12</th>\n",
       "      <td>Albanie</td>\n",
       "      <td>2013</td>\n",
       "      <td>2903790.0</td>\n",
       "    </tr>\n",
       "    <tr>\n",
       "      <th>18</th>\n",
       "      <td>Algérie</td>\n",
       "      <td>2013</td>\n",
       "      <td>38140133.0</td>\n",
       "    </tr>\n",
       "    <tr>\n",
       "      <th>24</th>\n",
       "      <td>Allemagne</td>\n",
       "      <td>2013</td>\n",
       "      <td>81174367.0</td>\n",
       "    </tr>\n",
       "  </tbody>\n",
       "</table>\n",
       "</div>"
      ],
      "text/plain": [
       "              Zone  Année  Population\n",
       "0      Afghanistan   2013  32269589.0\n",
       "6   Afrique du Sud   2013  53687121.0\n",
       "12         Albanie   2013   2903790.0\n",
       "18         Algérie   2013  38140133.0\n",
       "24       Allemagne   2013  81174367.0"
      ]
     },
     "execution_count": 64,
     "metadata": {},
     "output_type": "execute_result"
    }
   ],
   "source": [
    "pop_2013 = population.loc[population['Année']==2013,:]\n",
    "pop_2013.head()"
   ]
  },
  {
   "cell_type": "markdown",
   "id": "81b36771",
   "metadata": {},
   "source": [
    "On calcule la disponibilité alimentaire en kcal/personne/jour par pays :"
   ]
  },
  {
   "cell_type": "code",
   "execution_count": 68,
   "id": "15573471",
   "metadata": {
    "scrolled": true
   },
   "outputs": [
    {
     "data": {
      "text/html": [
       "<div>\n",
       "<style scoped>\n",
       "    .dataframe tbody tr th:only-of-type {\n",
       "        vertical-align: middle;\n",
       "    }\n",
       "\n",
       "    .dataframe tbody tr th {\n",
       "        vertical-align: top;\n",
       "    }\n",
       "\n",
       "    .dataframe thead th {\n",
       "        text-align: right;\n",
       "    }\n",
       "</style>\n",
       "<table border=\"1\" class=\"dataframe\">\n",
       "  <thead>\n",
       "    <tr style=\"text-align: right;\">\n",
       "      <th></th>\n",
       "      <th>Zone</th>\n",
       "      <th>Disponibilité alimentaire (Kcal/personne/jour)</th>\n",
       "    </tr>\n",
       "  </thead>\n",
       "  <tbody>\n",
       "    <tr>\n",
       "      <th>0</th>\n",
       "      <td>Afghanistan</td>\n",
       "      <td>2087.0</td>\n",
       "    </tr>\n",
       "    <tr>\n",
       "      <th>1</th>\n",
       "      <td>Afrique du Sud</td>\n",
       "      <td>3020.0</td>\n",
       "    </tr>\n",
       "    <tr>\n",
       "      <th>2</th>\n",
       "      <td>Albanie</td>\n",
       "      <td>3188.0</td>\n",
       "    </tr>\n",
       "    <tr>\n",
       "      <th>3</th>\n",
       "      <td>Algérie</td>\n",
       "      <td>3293.0</td>\n",
       "    </tr>\n",
       "    <tr>\n",
       "      <th>4</th>\n",
       "      <td>Allemagne</td>\n",
       "      <td>3503.0</td>\n",
       "    </tr>\n",
       "  </tbody>\n",
       "</table>\n",
       "</div>"
      ],
      "text/plain": [
       "             Zone  Disponibilité alimentaire (Kcal/personne/jour)\n",
       "0     Afghanistan                                          2087.0\n",
       "1  Afrique du Sud                                          3020.0\n",
       "2         Albanie                                          3188.0\n",
       "3         Algérie                                          3293.0\n",
       "4       Allemagne                                          3503.0"
      ]
     },
     "execution_count": 68,
     "metadata": {},
     "output_type": "execute_result"
    }
   ],
   "source": [
    "dispo_alim_par_pays = dispo_alimentaire.groupby('Zone')['Disponibilité alimentaire (Kcal/personne/jour)'].sum().reset_index()\n",
    "dispo_alim_par_pays.head()"
   ]
  },
  {
   "cell_type": "markdown",
   "id": "af32686a",
   "metadata": {},
   "source": [
    "Et la population par pays en 2013 :"
   ]
  },
  {
   "cell_type": "code",
   "execution_count": 69,
   "id": "4d14d40c",
   "metadata": {},
   "outputs": [
    {
     "data": {
      "text/html": [
       "<div>\n",
       "<style scoped>\n",
       "    .dataframe tbody tr th:only-of-type {\n",
       "        vertical-align: middle;\n",
       "    }\n",
       "\n",
       "    .dataframe tbody tr th {\n",
       "        vertical-align: top;\n",
       "    }\n",
       "\n",
       "    .dataframe thead th {\n",
       "        text-align: right;\n",
       "    }\n",
       "</style>\n",
       "<table border=\"1\" class=\"dataframe\">\n",
       "  <thead>\n",
       "    <tr style=\"text-align: right;\">\n",
       "      <th></th>\n",
       "      <th>Zone</th>\n",
       "      <th>Année</th>\n",
       "      <th>Population</th>\n",
       "      <th>Disponibilité alimentaire (Kcal/personne/jour)</th>\n",
       "    </tr>\n",
       "  </thead>\n",
       "  <tbody>\n",
       "    <tr>\n",
       "      <th>0</th>\n",
       "      <td>Afghanistan</td>\n",
       "      <td>2013</td>\n",
       "      <td>32269589.0</td>\n",
       "      <td>2087.0</td>\n",
       "    </tr>\n",
       "    <tr>\n",
       "      <th>1</th>\n",
       "      <td>Afrique du Sud</td>\n",
       "      <td>2013</td>\n",
       "      <td>53687121.0</td>\n",
       "      <td>3020.0</td>\n",
       "    </tr>\n",
       "    <tr>\n",
       "      <th>2</th>\n",
       "      <td>Albanie</td>\n",
       "      <td>2013</td>\n",
       "      <td>2903790.0</td>\n",
       "      <td>3188.0</td>\n",
       "    </tr>\n",
       "    <tr>\n",
       "      <th>3</th>\n",
       "      <td>Algérie</td>\n",
       "      <td>2013</td>\n",
       "      <td>38140133.0</td>\n",
       "      <td>3293.0</td>\n",
       "    </tr>\n",
       "    <tr>\n",
       "      <th>4</th>\n",
       "      <td>Allemagne</td>\n",
       "      <td>2013</td>\n",
       "      <td>81174367.0</td>\n",
       "      <td>3503.0</td>\n",
       "    </tr>\n",
       "  </tbody>\n",
       "</table>\n",
       "</div>"
      ],
      "text/plain": [
       "             Zone  Année  Population  \\\n",
       "0     Afghanistan   2013  32269589.0   \n",
       "1  Afrique du Sud   2013  53687121.0   \n",
       "2         Albanie   2013   2903790.0   \n",
       "3         Algérie   2013  38140133.0   \n",
       "4       Allemagne   2013  81174367.0   \n",
       "\n",
       "   Disponibilité alimentaire (Kcal/personne/jour)  \n",
       "0                                          2087.0  \n",
       "1                                          3020.0  \n",
       "2                                          3188.0  \n",
       "3                                          3293.0  \n",
       "4                                          3503.0  "
      ]
     },
     "execution_count": 69,
     "metadata": {},
     "output_type": "execute_result"
    }
   ],
   "source": [
    "dispo_personnes = pd.merge(pop_2013, dispo_alim_par_pays, on=['Zone'])\n",
    "dispo_personnes.head()"
   ]
  },
  {
   "cell_type": "markdown",
   "id": "7f84525c",
   "metadata": {},
   "source": [
    "On peut calculer la population qui pourrait être nourri selon la disponibilité par pays :"
   ]
  },
  {
   "cell_type": "code",
   "execution_count": 83,
   "id": "1108a5d5",
   "metadata": {},
   "outputs": [
    {
     "data": {
      "text/html": [
       "<div>\n",
       "<style scoped>\n",
       "    .dataframe tbody tr th:only-of-type {\n",
       "        vertical-align: middle;\n",
       "    }\n",
       "\n",
       "    .dataframe tbody tr th {\n",
       "        vertical-align: top;\n",
       "    }\n",
       "\n",
       "    .dataframe thead th {\n",
       "        text-align: right;\n",
       "    }\n",
       "</style>\n",
       "<table border=\"1\" class=\"dataframe\">\n",
       "  <thead>\n",
       "    <tr style=\"text-align: right;\">\n",
       "      <th></th>\n",
       "      <th>Zone</th>\n",
       "      <th>Année</th>\n",
       "      <th>Population</th>\n",
       "      <th>Disponibilité alimentaire (Kcal/personne/jour)</th>\n",
       "      <th>Pop_nourri</th>\n",
       "    </tr>\n",
       "  </thead>\n",
       "  <tbody>\n",
       "    <tr>\n",
       "      <th>0</th>\n",
       "      <td>Afghanistan</td>\n",
       "      <td>2013</td>\n",
       "      <td>32269589.0</td>\n",
       "      <td>2087.0</td>\n",
       "      <td>3.367332e+07</td>\n",
       "    </tr>\n",
       "    <tr>\n",
       "      <th>1</th>\n",
       "      <td>Afrique du Sud</td>\n",
       "      <td>2013</td>\n",
       "      <td>53687121.0</td>\n",
       "      <td>3020.0</td>\n",
       "      <td>8.106755e+07</td>\n",
       "    </tr>\n",
       "    <tr>\n",
       "      <th>2</th>\n",
       "      <td>Albanie</td>\n",
       "      <td>2013</td>\n",
       "      <td>2903790.0</td>\n",
       "      <td>3188.0</td>\n",
       "      <td>4.628641e+06</td>\n",
       "    </tr>\n",
       "    <tr>\n",
       "      <th>3</th>\n",
       "      <td>Algérie</td>\n",
       "      <td>2013</td>\n",
       "      <td>38140133.0</td>\n",
       "      <td>3293.0</td>\n",
       "      <td>6.279773e+07</td>\n",
       "    </tr>\n",
       "    <tr>\n",
       "      <th>4</th>\n",
       "      <td>Allemagne</td>\n",
       "      <td>2013</td>\n",
       "      <td>81174367.0</td>\n",
       "      <td>3503.0</td>\n",
       "      <td>1.421769e+08</td>\n",
       "    </tr>\n",
       "  </tbody>\n",
       "</table>\n",
       "</div>"
      ],
      "text/plain": [
       "             Zone  Année  Population  \\\n",
       "0     Afghanistan   2013  32269589.0   \n",
       "1  Afrique du Sud   2013  53687121.0   \n",
       "2         Albanie   2013   2903790.0   \n",
       "3         Algérie   2013  38140133.0   \n",
       "4       Allemagne   2013  81174367.0   \n",
       "\n",
       "   Disponibilité alimentaire (Kcal/personne/jour)    Pop_nourri  \n",
       "0                                          2087.0  3.367332e+07  \n",
       "1                                          3020.0  8.106755e+07  \n",
       "2                                          3188.0  4.628641e+06  \n",
       "3                                          3293.0  6.279773e+07  \n",
       "4                                          3503.0  1.421769e+08  "
      ]
     },
     "execution_count": 83,
     "metadata": {},
     "output_type": "execute_result"
    }
   ],
   "source": [
    "dispo_personnes['Pop_nourri']=round(dispo_personnes['Disponibilité alimentaire (Kcal/personne/jour)']*dispo_personnes['Population']/(2000),3)\n",
    "dispo_personnes.head()"
   ]
  },
  {
   "cell_type": "markdown",
   "id": "b7cb45af",
   "metadata": {},
   "source": [
    "Et, finalement, le nombre de personnes mondialement :"
   ]
  },
  {
   "cell_type": "code",
   "execution_count": 84,
   "id": "bb890f8c",
   "metadata": {
    "scrolled": true
   },
   "outputs": [
    {
     "name": "stdout",
     "output_type": "stream",
     "text": [
      "10 022 181 563.948002\n"
     ]
    }
   ],
   "source": [
    "n = dispo_personnes['Pop_nourri'].sum()\n",
    "print('{:,}'.format(n).replace(',', ' '))"
   ]
  },
  {
   "cell_type": "markdown",
   "id": "cb9b1541",
   "metadata": {},
   "source": [
    "### On pourrait nourrir plus de 10 milliards de personnes par jour."
   ]
  },
  {
   "cell_type": "markdown",
   "id": "706def99",
   "metadata": {},
   "source": [
    "Sachant que la population mondiale totale en 2013 était de :"
   ]
  },
  {
   "cell_type": "code",
   "execution_count": 85,
   "id": "f81aa8e3",
   "metadata": {},
   "outputs": [
    {
     "name": "stdout",
     "output_type": "stream",
     "text": [
      "6 969 731 998.0\n"
     ]
    }
   ],
   "source": [
    "p = dispo_personnes['Population'].sum()\n",
    "print('{:,}'.format(p).replace(',', ' '))"
   ]
  },
  {
   "cell_type": "code",
   "execution_count": 533,
   "id": "0db20c35",
   "metadata": {},
   "outputs": [
    {
     "name": "stdout",
     "output_type": "stream",
     "text": [
      "On pourrait théoriquement nourrir 3 052 449 566 personnes en plus de ce qu'il il y en avait dans le monde en 2013 selon la disponibilité alimentaire mondiale en kcal par jour.\n"
     ]
    }
   ],
   "source": [
    "print(\"On pourrait théoriquement nourrir\", '{:,}'.format(round(n-p)).replace(',', ' '),\"personnes en plus de ce qu'il il y en avait dans le monde en 2013 selon la disponibilité alimentaire mondiale en kcal par jour.\")"
   ]
  },
  {
   "cell_type": "code",
   "execution_count": 519,
   "id": "2e7d0655",
   "metadata": {},
   "outputs": [
    {
     "data": {
      "image/png": "[encoded data removed]",
      "text/plain": [
       "<Figure size 504x504 with 1 Axes>"
      ]
     },
     "metadata": {
      "needs_background": "light"
     },
     "output_type": "display_data"
    }
   ],
   "source": [
    "pop_plot = [p/1000000000, n/1000000000]\n",
    "x_plot = ['population', 'personnes pouvant être nourries']\n",
    "plt.figure(figsize = (7,7))\n",
    "sns.barplot(x = x_plot, y = pop_plot, palette = 'Set2', edgecolor='black')\n",
    "plt.ylabel(\"Nombre de personnes (milliards)\")\n",
    "plt.title(\"Comparaison entre la population mondiale en 2013 \\n et le nombre de personnes qui pourrait être nourries\", \n",
    "          fontsize = 15, fontweight = 'bold')\n",
    "plt.show()"
   ]
  },
  {
   "cell_type": "markdown",
   "id": "3aef2df5",
   "metadata": {},
   "source": [
    "## 1.3. Nombre théorique de personnes qui pourraient être nourries que par des produits végétaux "
   ]
  },
  {
   "cell_type": "markdown",
   "id": "cd3cad7b",
   "metadata": {},
   "source": [
    "Mêmes calculs qu'avant, sauf que cette fois-ci on va filtrer la disponibilité alimentaire en kcal/jour pour des aliments d'origine vegetale."
   ]
  },
  {
   "cell_type": "code",
   "execution_count": 79,
   "id": "f6d8be5d",
   "metadata": {},
   "outputs": [
    {
     "data": {
      "text/html": [
       "<div>\n",
       "<style scoped>\n",
       "    .dataframe tbody tr th:only-of-type {\n",
       "        vertical-align: middle;\n",
       "    }\n",
       "\n",
       "    .dataframe tbody tr th {\n",
       "        vertical-align: top;\n",
       "    }\n",
       "\n",
       "    .dataframe thead th {\n",
       "        text-align: right;\n",
       "    }\n",
       "</style>\n",
       "<table border=\"1\" class=\"dataframe\">\n",
       "  <thead>\n",
       "    <tr style=\"text-align: right;\">\n",
       "      <th></th>\n",
       "      <th>Zone</th>\n",
       "      <th>Origine</th>\n",
       "      <th>Disponibilité alimentaire (Kcal/personne/jour)</th>\n",
       "    </tr>\n",
       "  </thead>\n",
       "  <tbody>\n",
       "    <tr>\n",
       "      <th>0</th>\n",
       "      <td>Afghanistan</td>\n",
       "      <td>animale</td>\n",
       "      <td>216.0</td>\n",
       "    </tr>\n",
       "    <tr>\n",
       "      <th>1</th>\n",
       "      <td>Afghanistan</td>\n",
       "      <td>vegetale</td>\n",
       "      <td>1871.0</td>\n",
       "    </tr>\n",
       "    <tr>\n",
       "      <th>2</th>\n",
       "      <td>Afrique du Sud</td>\n",
       "      <td>animale</td>\n",
       "      <td>487.0</td>\n",
       "    </tr>\n",
       "    <tr>\n",
       "      <th>3</th>\n",
       "      <td>Afrique du Sud</td>\n",
       "      <td>vegetale</td>\n",
       "      <td>2533.0</td>\n",
       "    </tr>\n",
       "    <tr>\n",
       "      <th>4</th>\n",
       "      <td>Albanie</td>\n",
       "      <td>animale</td>\n",
       "      <td>985.0</td>\n",
       "    </tr>\n",
       "  </tbody>\n",
       "</table>\n",
       "</div>"
      ],
      "text/plain": [
       "             Zone   Origine  Disponibilité alimentaire (Kcal/personne/jour)\n",
       "0     Afghanistan   animale                                           216.0\n",
       "1     Afghanistan  vegetale                                          1871.0\n",
       "2  Afrique du Sud   animale                                           487.0\n",
       "3  Afrique du Sud  vegetale                                          2533.0\n",
       "4         Albanie   animale                                           985.0"
      ]
     },
     "execution_count": 79,
     "metadata": {},
     "output_type": "execute_result"
    }
   ],
   "source": [
    "# dispo par pays et par origine \n",
    "dispo_alim_par_pays_origine = dispo_alimentaire.groupby(['Zone','Origine'])['Disponibilité alimentaire (Kcal/personne/jour)'].sum().reset_index()\n",
    "dispo_alim_par_pays_origine.head()"
   ]
  },
  {
   "cell_type": "code",
   "execution_count": 80,
   "id": "99d00f04",
   "metadata": {},
   "outputs": [
    {
     "data": {
      "text/html": [
       "<div>\n",
       "<style scoped>\n",
       "    .dataframe tbody tr th:only-of-type {\n",
       "        vertical-align: middle;\n",
       "    }\n",
       "\n",
       "    .dataframe tbody tr th {\n",
       "        vertical-align: top;\n",
       "    }\n",
       "\n",
       "    .dataframe thead th {\n",
       "        text-align: right;\n",
       "    }\n",
       "</style>\n",
       "<table border=\"1\" class=\"dataframe\">\n",
       "  <thead>\n",
       "    <tr style=\"text-align: right;\">\n",
       "      <th></th>\n",
       "      <th>Zone</th>\n",
       "      <th>Origine</th>\n",
       "      <th>Disponibilité alimentaire (Kcal/personne/jour)</th>\n",
       "    </tr>\n",
       "  </thead>\n",
       "  <tbody>\n",
       "    <tr>\n",
       "      <th>1</th>\n",
       "      <td>Afghanistan</td>\n",
       "      <td>vegetale</td>\n",
       "      <td>1871.0</td>\n",
       "    </tr>\n",
       "    <tr>\n",
       "      <th>3</th>\n",
       "      <td>Afrique du Sud</td>\n",
       "      <td>vegetale</td>\n",
       "      <td>2533.0</td>\n",
       "    </tr>\n",
       "    <tr>\n",
       "      <th>5</th>\n",
       "      <td>Albanie</td>\n",
       "      <td>vegetale</td>\n",
       "      <td>2203.0</td>\n",
       "    </tr>\n",
       "    <tr>\n",
       "      <th>7</th>\n",
       "      <td>Algérie</td>\n",
       "      <td>vegetale</td>\n",
       "      <td>2915.0</td>\n",
       "    </tr>\n",
       "    <tr>\n",
       "      <th>9</th>\n",
       "      <td>Allemagne</td>\n",
       "      <td>vegetale</td>\n",
       "      <td>2461.0</td>\n",
       "    </tr>\n",
       "  </tbody>\n",
       "</table>\n",
       "</div>"
      ],
      "text/plain": [
       "             Zone   Origine  Disponibilité alimentaire (Kcal/personne/jour)\n",
       "1     Afghanistan  vegetale                                          1871.0\n",
       "3  Afrique du Sud  vegetale                                          2533.0\n",
       "5         Albanie  vegetale                                          2203.0\n",
       "7         Algérie  vegetale                                          2915.0\n",
       "9       Allemagne  vegetale                                          2461.0"
      ]
     },
     "execution_count": 80,
     "metadata": {},
     "output_type": "execute_result"
    }
   ],
   "source": [
    "# dispo par pays, origine vegetale\n",
    "dispo_vegetale = dispo_alim_par_pays_origine.loc[dispo_alim_par_pays_origine['Origine']=='vegetale',:]\n",
    "dispo_vegetale.head()"
   ]
  },
  {
   "cell_type": "code",
   "execution_count": 81,
   "id": "e21b9982",
   "metadata": {},
   "outputs": [
    {
     "data": {
      "text/html": [
       "<div>\n",
       "<style scoped>\n",
       "    .dataframe tbody tr th:only-of-type {\n",
       "        vertical-align: middle;\n",
       "    }\n",
       "\n",
       "    .dataframe tbody tr th {\n",
       "        vertical-align: top;\n",
       "    }\n",
       "\n",
       "    .dataframe thead th {\n",
       "        text-align: right;\n",
       "    }\n",
       "</style>\n",
       "<table border=\"1\" class=\"dataframe\">\n",
       "  <thead>\n",
       "    <tr style=\"text-align: right;\">\n",
       "      <th></th>\n",
       "      <th>Zone</th>\n",
       "      <th>Population</th>\n",
       "      <th>Disponibilité alimentaire (Kcal/personne/jour)</th>\n",
       "    </tr>\n",
       "  </thead>\n",
       "  <tbody>\n",
       "    <tr>\n",
       "      <th>0</th>\n",
       "      <td>Afghanistan</td>\n",
       "      <td>32269589.0</td>\n",
       "      <td>1871.0</td>\n",
       "    </tr>\n",
       "    <tr>\n",
       "      <th>1</th>\n",
       "      <td>Afrique du Sud</td>\n",
       "      <td>53687121.0</td>\n",
       "      <td>2533.0</td>\n",
       "    </tr>\n",
       "    <tr>\n",
       "      <th>2</th>\n",
       "      <td>Albanie</td>\n",
       "      <td>2903790.0</td>\n",
       "      <td>2203.0</td>\n",
       "    </tr>\n",
       "    <tr>\n",
       "      <th>3</th>\n",
       "      <td>Algérie</td>\n",
       "      <td>38140133.0</td>\n",
       "      <td>2915.0</td>\n",
       "    </tr>\n",
       "    <tr>\n",
       "      <th>4</th>\n",
       "      <td>Allemagne</td>\n",
       "      <td>81174367.0</td>\n",
       "      <td>2461.0</td>\n",
       "    </tr>\n",
       "  </tbody>\n",
       "</table>\n",
       "</div>"
      ],
      "text/plain": [
       "             Zone  Population  Disponibilité alimentaire (Kcal/personne/jour)\n",
       "0     Afghanistan  32269589.0                                          1871.0\n",
       "1  Afrique du Sud  53687121.0                                          2533.0\n",
       "2         Albanie   2903790.0                                          2203.0\n",
       "3         Algérie  38140133.0                                          2915.0\n",
       "4       Allemagne  81174367.0                                          2461.0"
      ]
     },
     "execution_count": 81,
     "metadata": {},
     "output_type": "execute_result"
    }
   ],
   "source": [
    "# dispo origine vegetale et population par pays, 2013\n",
    "dispo_personnes_vege = pd.merge(pop_2013, dispo_vegetale, on=['Zone']).drop(columns=['Origine','Année'])\n",
    "dispo_personnes_vege.head()"
   ]
  },
  {
   "cell_type": "code",
   "execution_count": 82,
   "id": "397fa21a",
   "metadata": {},
   "outputs": [
    {
     "data": {
      "text/html": [
       "<div>\n",
       "<style scoped>\n",
       "    .dataframe tbody tr th:only-of-type {\n",
       "        vertical-align: middle;\n",
       "    }\n",
       "\n",
       "    .dataframe tbody tr th {\n",
       "        vertical-align: top;\n",
       "    }\n",
       "\n",
       "    .dataframe thead th {\n",
       "        text-align: right;\n",
       "    }\n",
       "</style>\n",
       "<table border=\"1\" class=\"dataframe\">\n",
       "  <thead>\n",
       "    <tr style=\"text-align: right;\">\n",
       "      <th></th>\n",
       "      <th>Zone</th>\n",
       "      <th>Population</th>\n",
       "      <th>Disponibilité alimentaire (Kcal/personne/jour)</th>\n",
       "      <th>Pop_nourri_vege</th>\n",
       "    </tr>\n",
       "  </thead>\n",
       "  <tbody>\n",
       "    <tr>\n",
       "      <th>0</th>\n",
       "      <td>Afghanistan</td>\n",
       "      <td>32269589.0</td>\n",
       "      <td>1871.0</td>\n",
       "      <td>3.018820e+07</td>\n",
       "    </tr>\n",
       "    <tr>\n",
       "      <th>1</th>\n",
       "      <td>Afrique du Sud</td>\n",
       "      <td>53687121.0</td>\n",
       "      <td>2533.0</td>\n",
       "      <td>6.799474e+07</td>\n",
       "    </tr>\n",
       "    <tr>\n",
       "      <th>2</th>\n",
       "      <td>Albanie</td>\n",
       "      <td>2903790.0</td>\n",
       "      <td>2203.0</td>\n",
       "      <td>3.198525e+06</td>\n",
       "    </tr>\n",
       "    <tr>\n",
       "      <th>3</th>\n",
       "      <td>Algérie</td>\n",
       "      <td>38140133.0</td>\n",
       "      <td>2915.0</td>\n",
       "      <td>5.558924e+07</td>\n",
       "    </tr>\n",
       "    <tr>\n",
       "      <th>4</th>\n",
       "      <td>Allemagne</td>\n",
       "      <td>81174367.0</td>\n",
       "      <td>2461.0</td>\n",
       "      <td>9.988506e+07</td>\n",
       "    </tr>\n",
       "  </tbody>\n",
       "</table>\n",
       "</div>"
      ],
      "text/plain": [
       "             Zone  Population  Disponibilité alimentaire (Kcal/personne/jour)  \\\n",
       "0     Afghanistan  32269589.0                                          1871.0   \n",
       "1  Afrique du Sud  53687121.0                                          2533.0   \n",
       "2         Albanie   2903790.0                                          2203.0   \n",
       "3         Algérie  38140133.0                                          2915.0   \n",
       "4       Allemagne  81174367.0                                          2461.0   \n",
       "\n",
       "   Pop_nourri_vege  \n",
       "0     3.018820e+07  \n",
       "1     6.799474e+07  \n",
       "2     3.198525e+06  \n",
       "3     5.558924e+07  \n",
       "4     9.988506e+07  "
      ]
     },
     "execution_count": 82,
     "metadata": {},
     "output_type": "execute_result"
    }
   ],
   "source": [
    "# Population qui pourrait être nourrie, si on considère un besoin de 2000 kcal par personne par jour \n",
    "dispo_personnes_vege['Pop_nourri_vege']=round(dispo_personnes_vege['Disponibilité alimentaire (Kcal/personne/jour)']*dispo_personnes_vege['Population']/(2000),3)\n",
    "dispo_personnes_vege.head()"
   ]
  },
  {
   "cell_type": "markdown",
   "id": "e6f53080",
   "metadata": {},
   "source": [
    "Nombre théorique de personnes qui pourraient être nourries que par des produits végétaux :"
   ]
  },
  {
   "cell_type": "code",
   "execution_count": 87,
   "id": "45898696",
   "metadata": {},
   "outputs": [
    {
     "name": "stdout",
     "output_type": "stream",
     "text": [
      "8 253 336 951.665999\n"
     ]
    }
   ],
   "source": [
    "# Nombre total\n",
    "n_v = dispo_personnes_vege['Pop_nourri_vege'].sum()\n",
    "print('{:,}'.format(n_v).replace(',', ' '))"
   ]
  },
  {
   "cell_type": "markdown",
   "id": "2c5233f7",
   "metadata": {},
   "source": [
    "### Qu'avec des produits végéteaux, on pourrait nourrir plus de 8 milliards de personnes par jour."
   ]
  },
  {
   "cell_type": "code",
   "execution_count": 92,
   "id": "8310f19b",
   "metadata": {},
   "outputs": [
    {
     "name": "stdout",
     "output_type": "stream",
     "text": [
      "On pourrait théoriquement nourrir 1 283 604 954 personnes en plus de ce qu'il il y en avait dans le monde en 2013 qu'avec des produits d'origine végétale, selon la disponibilité alimentaire en kcal par jour.\n"
     ]
    }
   ],
   "source": [
    "print(\"On pourrait théoriquement nourrir\", '{:,}'.format(round((n_v)-p)).replace(',', ' ') ,\"personnes en plus de ce qu'il il y en avait dans le monde en 2013 qu'avec des produits d'origine végétale, selon la disponibilité alimentaire en kcal par jour.\")"
   ]
  },
  {
   "cell_type": "code",
   "execution_count": 532,
   "id": "cbacbcec",
   "metadata": {},
   "outputs": [
    {
     "data": {
      "image/png": "[encoded data removed]",
      "text/plain": [
       "<Figure size 504x504 with 1 Axes>"
      ]
     },
     "metadata": {
      "needs_background": "light"
     },
     "output_type": "display_data"
    }
   ],
   "source": [
    "veg_x = ['','']\n",
    "plt.figure(figsize = (7,7))\n",
    "plt.bar(veg_x, n/1000000000, color = 'lightsalmon', label = \"Personnes pourrant être nourries que par des produits animaux\", edgecolor='black')\n",
    "plt.bar(veg_x, n_v/1000000000, color = 'lightgreen', label = \"Personnes pourrant être nourries que par des produits végétaux\", edgecolor='black')\n",
    "plt.legend(loc=\"lower left\",bbox_to_anchor=(1.1,0))\n",
    "plt.ylabel(\"Nombre de personnes (milliards)\")\n",
    "plt.title(\"Proportion de personnes qui pourrait être nourries mondialement en 2013\", fontsize = 15, fontweight = 'bold')\n",
    "plt.show()"
   ]
  },
  {
   "cell_type": "markdown",
   "id": "94c9a60f",
   "metadata": {},
   "source": [
    "## 1.4 Utilisation de la disponibilité intérieure"
   ]
  },
  {
   "cell_type": "markdown",
   "id": "fae6b796",
   "metadata": {},
   "source": [
    "Selon Julien :\n",
    "- La disponibilité intérieure correspond à la disponibilité totale d’un aliment au sein du pays;\n",
    "- Il y a un lien logique entre l’ensemble des 10 variables exprimées en milliers de tonnes sur les utilisations de la disponibilité intérieure, qui peut s’exprimer avec une équation du type : A1 + A2 + … = disponibilité intérieure = B1 + B2.\n",
    "\n",
    "Ce lien logique entre les 10 variables de même mesure (milliers de tonnes) peut être exprimé comme :\n",
    "\n",
    "- Disponibilité intérieure = Tous ce qu'un pays produit + ce qu'il importe - ce qu'il exporte + ces variations de stock;\n",
    "- La disponibilité intérieure peut être utilisé pour l'alimentation animale, pour d'autres utilisations, pour nourriture (humaine), pour semences, pour traitement ou peut avoir des pertes.\n",
    "\n",
    "On sait donc que les colonnes \"Aliments pour animaux\", \"Nourriture\" (qui correspond à aliments pour humains) et \"Pertes\" peuvent être calculés comme un pourcentage de la colonne \"Disponibilité intérieure\". \n",
    "\n",
    "Ainsi, on va regarder la part de la disponibilité intériéure qui est attribuée à l’alimentation animale, celle qui est perdue et celle qui est concrètement utilisée pour l'alimentation humaine."
   ]
  },
  {
   "cell_type": "code",
   "execution_count": null,
   "id": "8ba7e0ad",
   "metadata": {},
   "outputs": [],
   "source": [
    "# Création d'une table plus lisible à lire avec les infos dont on a besoin\n",
    "dispo_alim_qte = dispo_alimentaire.drop(columns=['Disponibilité alimentaire (Kcal/personne/jour)','Disponibilité alimentaire en quantité (kg/personne/an)','Disponibilité de matière grasse en quantité (g/personne/jour)','Disponibilité de protéines en quantité (g/personne/jour)'])"
   ]
  },
  {
   "cell_type": "markdown",
   "id": "c89151f8",
   "metadata": {},
   "source": [
    "On peut regarder tels informations par pays, en ajoutant des colonnes \"Pourcentage alimentation animale\", \"Pourcentage perdue\" et \"Pourcentage Alimentation humaine\" à la table Disponibilité Alimentaire."
   ]
  },
  {
   "cell_type": "code",
   "execution_count": 107,
   "id": "4d7d0ad5",
   "metadata": {
    "scrolled": true
   },
   "outputs": [
    {
     "data": {
      "text/html": [
       "<div>\n",
       "<style scoped>\n",
       "    .dataframe tbody tr th:only-of-type {\n",
       "        vertical-align: middle;\n",
       "    }\n",
       "\n",
       "    .dataframe tbody tr th {\n",
       "        vertical-align: top;\n",
       "    }\n",
       "\n",
       "    .dataframe thead th {\n",
       "        text-align: right;\n",
       "    }\n",
       "</style>\n",
       "<table border=\"1\" class=\"dataframe\">\n",
       "  <thead>\n",
       "    <tr style=\"text-align: right;\">\n",
       "      <th></th>\n",
       "      <th>Zone</th>\n",
       "      <th>Produit</th>\n",
       "      <th>Origine</th>\n",
       "      <th>Aliments pour animaux</th>\n",
       "      <th>Autres Utilisations</th>\n",
       "      <th>Disponibilité intérieure</th>\n",
       "      <th>Exportations - Quantité</th>\n",
       "      <th>Importations - Quantité</th>\n",
       "      <th>Nourriture</th>\n",
       "      <th>Pertes</th>\n",
       "      <th>Production</th>\n",
       "      <th>Semences</th>\n",
       "      <th>Traitement</th>\n",
       "      <th>Variation de stock</th>\n",
       "      <th>Pourcentage alimentation animale</th>\n",
       "      <th>Pourcentage perdue</th>\n",
       "      <th>Pourcentage alimentation humaine</th>\n",
       "    </tr>\n",
       "  </thead>\n",
       "  <tbody>\n",
       "    <tr>\n",
       "      <th>0</th>\n",
       "      <td>Afghanistan</td>\n",
       "      <td>Abats Comestible</td>\n",
       "      <td>animale</td>\n",
       "      <td>NaN</td>\n",
       "      <td>NaN</td>\n",
       "      <td>53.0</td>\n",
       "      <td>NaN</td>\n",
       "      <td>NaN</td>\n",
       "      <td>53.0</td>\n",
       "      <td>NaN</td>\n",
       "      <td>53.0</td>\n",
       "      <td>NaN</td>\n",
       "      <td>NaN</td>\n",
       "      <td>NaN</td>\n",
       "      <td>NaN</td>\n",
       "      <td>NaN</td>\n",
       "      <td>100.00</td>\n",
       "    </tr>\n",
       "    <tr>\n",
       "      <th>1</th>\n",
       "      <td>Afghanistan</td>\n",
       "      <td>Agrumes, Autres</td>\n",
       "      <td>vegetale</td>\n",
       "      <td>NaN</td>\n",
       "      <td>NaN</td>\n",
       "      <td>41.0</td>\n",
       "      <td>2.0</td>\n",
       "      <td>40.0</td>\n",
       "      <td>39.0</td>\n",
       "      <td>2.0</td>\n",
       "      <td>3.0</td>\n",
       "      <td>NaN</td>\n",
       "      <td>NaN</td>\n",
       "      <td>NaN</td>\n",
       "      <td>NaN</td>\n",
       "      <td>4.88</td>\n",
       "      <td>95.12</td>\n",
       "    </tr>\n",
       "    <tr>\n",
       "      <th>2</th>\n",
       "      <td>Afghanistan</td>\n",
       "      <td>Aliments pour enfants</td>\n",
       "      <td>vegetale</td>\n",
       "      <td>NaN</td>\n",
       "      <td>NaN</td>\n",
       "      <td>2.0</td>\n",
       "      <td>NaN</td>\n",
       "      <td>2.0</td>\n",
       "      <td>2.0</td>\n",
       "      <td>NaN</td>\n",
       "      <td>NaN</td>\n",
       "      <td>NaN</td>\n",
       "      <td>NaN</td>\n",
       "      <td>NaN</td>\n",
       "      <td>NaN</td>\n",
       "      <td>NaN</td>\n",
       "      <td>100.00</td>\n",
       "    </tr>\n",
       "    <tr>\n",
       "      <th>3</th>\n",
       "      <td>Afghanistan</td>\n",
       "      <td>Ananas</td>\n",
       "      <td>vegetale</td>\n",
       "      <td>NaN</td>\n",
       "      <td>NaN</td>\n",
       "      <td>0.0</td>\n",
       "      <td>NaN</td>\n",
       "      <td>0.0</td>\n",
       "      <td>0.0</td>\n",
       "      <td>NaN</td>\n",
       "      <td>NaN</td>\n",
       "      <td>NaN</td>\n",
       "      <td>NaN</td>\n",
       "      <td>NaN</td>\n",
       "      <td>NaN</td>\n",
       "      <td>NaN</td>\n",
       "      <td>NaN</td>\n",
       "    </tr>\n",
       "    <tr>\n",
       "      <th>4</th>\n",
       "      <td>Afghanistan</td>\n",
       "      <td>Bananes</td>\n",
       "      <td>vegetale</td>\n",
       "      <td>NaN</td>\n",
       "      <td>NaN</td>\n",
       "      <td>82.0</td>\n",
       "      <td>NaN</td>\n",
       "      <td>82.0</td>\n",
       "      <td>82.0</td>\n",
       "      <td>NaN</td>\n",
       "      <td>NaN</td>\n",
       "      <td>NaN</td>\n",
       "      <td>NaN</td>\n",
       "      <td>NaN</td>\n",
       "      <td>NaN</td>\n",
       "      <td>NaN</td>\n",
       "      <td>100.00</td>\n",
       "    </tr>\n",
       "  </tbody>\n",
       "</table>\n",
       "</div>"
      ],
      "text/plain": [
       "          Zone                Produit   Origine  Aliments pour animaux  \\\n",
       "0  Afghanistan       Abats Comestible   animale                    NaN   \n",
       "1  Afghanistan        Agrumes, Autres  vegetale                    NaN   \n",
       "2  Afghanistan  Aliments pour enfants  vegetale                    NaN   \n",
       "3  Afghanistan                 Ananas  vegetale                    NaN   \n",
       "4  Afghanistan                Bananes  vegetale                    NaN   \n",
       "\n",
       "   Autres Utilisations  Disponibilité intérieure  Exportations - Quantité  \\\n",
       "0                  NaN                      53.0                      NaN   \n",
       "1                  NaN                      41.0                      2.0   \n",
       "2                  NaN                       2.0                      NaN   \n",
       "3                  NaN                       0.0                      NaN   \n",
       "4                  NaN                      82.0                      NaN   \n",
       "\n",
       "   Importations - Quantité  Nourriture  Pertes  Production  Semences  \\\n",
       "0                      NaN        53.0     NaN        53.0       NaN   \n",
       "1                     40.0        39.0     2.0         3.0       NaN   \n",
       "2                      2.0         2.0     NaN         NaN       NaN   \n",
       "3                      0.0         0.0     NaN         NaN       NaN   \n",
       "4                     82.0        82.0     NaN         NaN       NaN   \n",
       "\n",
       "   Traitement  Variation de stock  Pourcentage alimentation animale  \\\n",
       "0         NaN                 NaN                               NaN   \n",
       "1         NaN                 NaN                               NaN   \n",
       "2         NaN                 NaN                               NaN   \n",
       "3         NaN                 NaN                               NaN   \n",
       "4         NaN                 NaN                               NaN   \n",
       "\n",
       "   Pourcentage perdue  Pourcentage alimentation humaine  \n",
       "0                 NaN                            100.00  \n",
       "1                4.88                             95.12  \n",
       "2                 NaN                            100.00  \n",
       "3                 NaN                               NaN  \n",
       "4                 NaN                            100.00  "
      ]
     },
     "execution_count": 107,
     "metadata": {},
     "output_type": "execute_result"
    }
   ],
   "source": [
    "# Ajout des colonnes \"Pourcentage alimentation animale\", \"Pourcentage perdue\" et \"Pourcentage Alimentation humaine\"\n",
    "dispo_alim_qte['Pourcentage alimentation animale'] =  round(dispo_alim_qte['Aliments pour animaux']*100/dispo_alim_qte['Disponibilité intérieure'],2)\n",
    "dispo_alim_qte['Pourcentage perdue'] =  round(dispo_alim_qte['Pertes']*100/dispo_alim_qte['Disponibilité intérieure'],2)\n",
    "dispo_alim_qte['Pourcentage alimentation humaine'] =  round(dispo_alim_qte['Nourriture']*100/dispo_alim_qte['Disponibilité intérieure'],2)\n",
    "\n",
    "dispo_alim_qte.head()"
   ]
  },
  {
   "cell_type": "markdown",
   "id": "1581d296",
   "metadata": {},
   "source": [
    "Et, finalement, les pourcentages totales de la disponibilité intérieure :"
   ]
  },
  {
   "cell_type": "code",
   "execution_count": 111,
   "id": "63bf7cc6",
   "metadata": {},
   "outputs": [
    {
     "data": {
      "text/plain": [
       "13.24"
      ]
     },
     "execution_count": 111,
     "metadata": {},
     "output_type": "execute_result"
    }
   ],
   "source": [
    "# Pourcentage total de l'alimentation pour animaux\n",
    "pourc_per = round(dispo_alim_qte['Aliments pour animaux'].sum()*100/dispo_alim_qte['Disponibilité intérieure'].sum(),2)\n",
    "pourc_per"
   ]
  },
  {
   "cell_type": "code",
   "execution_count": 112,
   "id": "d9c7f651",
   "metadata": {},
   "outputs": [
    {
     "data": {
      "text/plain": [
       "49.51"
      ]
     },
     "execution_count": 112,
     "metadata": {},
     "output_type": "execute_result"
    }
   ],
   "source": [
    "# Pourcentage total de l'alimentation pour humains\n",
    "pourc_per = round(dispo_alim_qte['Nourriture'].sum()*100/dispo_alim_qte['Disponibilité intérieure'].sum(),2)\n",
    "pourc_per"
   ]
  },
  {
   "cell_type": "code",
   "execution_count": 110,
   "id": "ce852d27",
   "metadata": {},
   "outputs": [
    {
     "data": {
      "text/plain": [
       "4.61"
      ]
     },
     "execution_count": 110,
     "metadata": {},
     "output_type": "execute_result"
    }
   ],
   "source": [
    "# Pourcentage total de l'alimentation perdue\n",
    "pourc_per = round(dispo_alim_qte['Pertes'].sum()*100/dispo_alim_qte['Disponibilité intérieure'].sum(),2)\n",
    "pourc_per"
   ]
  },
  {
   "cell_type": "markdown",
   "id": "d3712a59",
   "metadata": {},
   "source": [
    "### La distribution de la disponibilité intérieure est de 13.24% pour l'alimentation animale, 49.51% pour l'alimentation humaine et 4.61% de pertes."
   ]
  },
  {
   "cell_type": "code",
   "execution_count": 496,
   "id": "c69a719a",
   "metadata": {},
   "outputs": [
    {
     "data": {
      "text/html": [
       "<div>\n",
       "<style scoped>\n",
       "    .dataframe tbody tr th:only-of-type {\n",
       "        vertical-align: middle;\n",
       "    }\n",
       "\n",
       "    .dataframe tbody tr th {\n",
       "        vertical-align: top;\n",
       "    }\n",
       "\n",
       "    .dataframe thead th {\n",
       "        text-align: right;\n",
       "    }\n",
       "</style>\n",
       "<table border=\"1\" class=\"dataframe\">\n",
       "  <thead>\n",
       "    <tr style=\"text-align: right;\">\n",
       "      <th></th>\n",
       "      <th>variable</th>\n",
       "      <th>value</th>\n",
       "    </tr>\n",
       "  </thead>\n",
       "  <tbody>\n",
       "    <tr>\n",
       "      <th>0</th>\n",
       "      <td>Aliments pour animaux</td>\n",
       "      <td>1304245.0</td>\n",
       "    </tr>\n",
       "    <tr>\n",
       "      <th>1</th>\n",
       "      <td>Autres Utilisations</td>\n",
       "      <td>865023.0</td>\n",
       "    </tr>\n",
       "    <tr>\n",
       "      <th>2</th>\n",
       "      <td>Nourriture</td>\n",
       "      <td>4876258.0</td>\n",
       "    </tr>\n",
       "    <tr>\n",
       "      <th>3</th>\n",
       "      <td>Pertes</td>\n",
       "      <td>453698.0</td>\n",
       "    </tr>\n",
       "    <tr>\n",
       "      <th>4</th>\n",
       "      <td>Semences</td>\n",
       "      <td>154681.0</td>\n",
       "    </tr>\n",
       "    <tr>\n",
       "      <th>5</th>\n",
       "      <td>Traitement</td>\n",
       "      <td>2204687.0</td>\n",
       "    </tr>\n",
       "  </tbody>\n",
       "</table>\n",
       "</div>"
      ],
      "text/plain": [
       "                variable      value\n",
       "0  Aliments pour animaux  1304245.0\n",
       "1    Autres Utilisations   865023.0\n",
       "2             Nourriture  4876258.0\n",
       "3                 Pertes   453698.0\n",
       "4               Semences   154681.0\n",
       "5             Traitement  2204687.0"
      ]
     },
     "execution_count": 496,
     "metadata": {},
     "output_type": "execute_result"
    }
   ],
   "source": [
    "# distribution alimentaire totale\n",
    "dispo_alim_graph = dispo_alim_qte[['Aliments pour animaux', 'Autres Utilisations', 'Nourriture', 'Pertes', 'Semences', 'Traitement']]\n",
    "dispo_alim_graph = dispo_alim_graph.melt(value_vars = ['Aliments pour animaux', 'Autres Utilisations', 'Nourriture', 'Pertes', 'Semences', 'Traitement'])\n",
    "dispo_alim_graph = dispo_alim_graph.groupby('variable')['value'].sum().reset_index()\n",
    "dispo_alim_graph.head(6)"
   ]
  },
  {
   "cell_type": "code",
   "execution_count": 493,
   "id": "d285295e",
   "metadata": {},
   "outputs": [
    {
     "data": {
      "image/png": "[encoded data removed]",
      "text/plain": [
       "<Figure size 504x504 with 1 Axes>"
      ]
     },
     "metadata": {},
     "output_type": "display_data"
    }
   ],
   "source": [
    "plt.figure(figsize =(7,7))\n",
    "plt.pie(x = dispo_alim_graph['value'], autopct = '%.2f%%', pctdistance = 1.16, \n",
    "        wedgeprops={'linewidth': 1.0,'edgecolor':'black'}, textprops={'fontsize': 12})\n",
    "plt.title(\"Distribution de la disponibilité intérieure en 2013\", fontsize = 15, fontweight = 'bold')\n",
    "plt.legend(labels=dispo_alim_graph['variable'], loc='upper center', \n",
    "           bbox_to_anchor=(0.5, -0.08), ncol=2, fontsize = 12)\n",
    "plt.show()"
   ]
  },
  {
   "cell_type": "markdown",
   "id": "7206605a",
   "metadata": {},
   "source": [
    "### Utilisation de la disponibilité intérieure des céréales"
   ]
  },
  {
   "cell_type": "markdown",
   "id": "d6c61763",
   "metadata": {},
   "source": [
    "Selon Julien, il y a des chiffres intéressants sur l’utilisation des céréales,\n",
    "notamment la répartition entre l’alimentation humaine et l’alimentation pour animaux. \n",
    "\n",
    "La liste des céréales peut être trouvée en allant fouiller un peu dans l’onglet Bilans alimentaires, sur le lien des données du site FAO.\n",
    "\n",
    "Regardons de plus près ces pourcentages pour chaque type de produit de la catégorie \"Céréales\" :"
   ]
  },
  {
   "cell_type": "code",
   "execution_count": 535,
   "id": "32e514a5",
   "metadata": {},
   "outputs": [
    {
     "data": {
      "text/html": [
       "<div>\n",
       "<style scoped>\n",
       "    .dataframe tbody tr th:only-of-type {\n",
       "        vertical-align: middle;\n",
       "    }\n",
       "\n",
       "    .dataframe tbody tr th {\n",
       "        vertical-align: top;\n",
       "    }\n",
       "\n",
       "    .dataframe thead th {\n",
       "        text-align: right;\n",
       "    }\n",
       "</style>\n",
       "<table border=\"1\" class=\"dataframe\">\n",
       "  <thead>\n",
       "    <tr style=\"text-align: right;\">\n",
       "      <th></th>\n",
       "      <th>Produit</th>\n",
       "      <th>Aliments pour animaux</th>\n",
       "      <th>Nourriture</th>\n",
       "      <th>Disponibilité intérieure</th>\n",
       "    </tr>\n",
       "  </thead>\n",
       "  <tbody>\n",
       "    <tr>\n",
       "      <th>0</th>\n",
       "      <td>Abats Comestible</td>\n",
       "      <td>1009.0</td>\n",
       "      <td>15669.0</td>\n",
       "      <td>17587.0</td>\n",
       "    </tr>\n",
       "    <tr>\n",
       "      <th>1</th>\n",
       "      <td>Agrumes, Autres</td>\n",
       "      <td>0.0</td>\n",
       "      <td>11359.0</td>\n",
       "      <td>12176.0</td>\n",
       "    </tr>\n",
       "    <tr>\n",
       "      <th>2</th>\n",
       "      <td>Alcool, non Comestible</td>\n",
       "      <td>0.0</td>\n",
       "      <td>0.0</td>\n",
       "      <td>21741.0</td>\n",
       "    </tr>\n",
       "    <tr>\n",
       "      <th>3</th>\n",
       "      <td>Aliments pour enfants</td>\n",
       "      <td>0.0</td>\n",
       "      <td>761.0</td>\n",
       "      <td>84.0</td>\n",
       "    </tr>\n",
       "    <tr>\n",
       "      <th>4</th>\n",
       "      <td>Ananas</td>\n",
       "      <td>0.0</td>\n",
       "      <td>20757.0</td>\n",
       "      <td>23282.0</td>\n",
       "    </tr>\n",
       "  </tbody>\n",
       "</table>\n",
       "</div>"
      ],
      "text/plain": [
       "                  Produit  Aliments pour animaux  Nourriture  \\\n",
       "0        Abats Comestible                 1009.0     15669.0   \n",
       "1         Agrumes, Autres                    0.0     11359.0   \n",
       "2  Alcool, non Comestible                    0.0         0.0   \n",
       "3   Aliments pour enfants                    0.0       761.0   \n",
       "4                  Ananas                    0.0     20757.0   \n",
       "\n",
       "   Disponibilité intérieure  \n",
       "0                   17587.0  \n",
       "1                   12176.0  \n",
       "2                   21741.0  \n",
       "3                      84.0  \n",
       "4                   23282.0  "
      ]
     },
     "execution_count": 535,
     "metadata": {},
     "output_type": "execute_result"
    }
   ],
   "source": [
    "# Sommes d'alimentation animale et humaine par type de produit\n",
    "\n",
    "dispo_groupe_alim = dispo_alim_qte.groupby('Produit')[['Aliments pour animaux','Nourriture', 'Disponibilité intérieure']].sum().reset_index()\n",
    "dispo_groupe_alim.head()"
   ]
  },
  {
   "cell_type": "code",
   "execution_count": 536,
   "id": "b3fbfe34",
   "metadata": {},
   "outputs": [
    {
     "data": {
      "text/html": [
       "<div>\n",
       "<style scoped>\n",
       "    .dataframe tbody tr th:only-of-type {\n",
       "        vertical-align: middle;\n",
       "    }\n",
       "\n",
       "    .dataframe tbody tr th {\n",
       "        vertical-align: top;\n",
       "    }\n",
       "\n",
       "    .dataframe thead th {\n",
       "        text-align: right;\n",
       "    }\n",
       "</style>\n",
       "<table border=\"1\" class=\"dataframe\">\n",
       "  <thead>\n",
       "    <tr style=\"text-align: right;\">\n",
       "      <th></th>\n",
       "      <th>Produit</th>\n",
       "      <th>Aliments pour animaux</th>\n",
       "      <th>Nourriture</th>\n",
       "      <th>Disponibilité intérieure</th>\n",
       "    </tr>\n",
       "  </thead>\n",
       "  <tbody>\n",
       "    <tr>\n",
       "      <th>7</th>\n",
       "      <td>Avoine</td>\n",
       "      <td>16251.0</td>\n",
       "      <td>3903.0</td>\n",
       "      <td>23407.0</td>\n",
       "    </tr>\n",
       "    <tr>\n",
       "      <th>12</th>\n",
       "      <td>Blé</td>\n",
       "      <td>129668.0</td>\n",
       "      <td>457824.0</td>\n",
       "      <td>679498.0</td>\n",
       "    </tr>\n",
       "    <tr>\n",
       "      <th>21</th>\n",
       "      <td>Céréales, Autres</td>\n",
       "      <td>19035.0</td>\n",
       "      <td>5324.0</td>\n",
       "      <td>27485.0</td>\n",
       "    </tr>\n",
       "    <tr>\n",
       "      <th>52</th>\n",
       "      <td>Maïs</td>\n",
       "      <td>546116.0</td>\n",
       "      <td>125184.0</td>\n",
       "      <td>955799.0</td>\n",
       "    </tr>\n",
       "    <tr>\n",
       "      <th>54</th>\n",
       "      <td>Millet</td>\n",
       "      <td>3306.0</td>\n",
       "      <td>23040.0</td>\n",
       "      <td>29911.0</td>\n",
       "    </tr>\n",
       "    <tr>\n",
       "      <th>62</th>\n",
       "      <td>Orge</td>\n",
       "      <td>92658.0</td>\n",
       "      <td>6794.0</td>\n",
       "      <td>140439.0</td>\n",
       "    </tr>\n",
       "    <tr>\n",
       "      <th>79</th>\n",
       "      <td>Riz (Eq Blanchi)</td>\n",
       "      <td>33594.0</td>\n",
       "      <td>377286.0</td>\n",
       "      <td>475656.0</td>\n",
       "    </tr>\n",
       "    <tr>\n",
       "      <th>80</th>\n",
       "      <td>Seigle</td>\n",
       "      <td>8099.0</td>\n",
       "      <td>5502.0</td>\n",
       "      <td>16567.0</td>\n",
       "    </tr>\n",
       "    <tr>\n",
       "      <th>82</th>\n",
       "      <td>Sorgho</td>\n",
       "      <td>24808.0</td>\n",
       "      <td>24153.0</td>\n",
       "      <td>58237.0</td>\n",
       "    </tr>\n",
       "  </tbody>\n",
       "</table>\n",
       "</div>"
      ],
      "text/plain": [
       "             Produit  Aliments pour animaux  Nourriture  \\\n",
       "7             Avoine                16251.0      3903.0   \n",
       "12               Blé               129668.0    457824.0   \n",
       "21  Céréales, Autres                19035.0      5324.0   \n",
       "52              Maïs               546116.0    125184.0   \n",
       "54            Millet                 3306.0     23040.0   \n",
       "62              Orge                92658.0      6794.0   \n",
       "79  Riz (Eq Blanchi)                33594.0    377286.0   \n",
       "80            Seigle                 8099.0      5502.0   \n",
       "82            Sorgho                24808.0     24153.0   \n",
       "\n",
       "    Disponibilité intérieure  \n",
       "7                    23407.0  \n",
       "12                  679498.0  \n",
       "21                   27485.0  \n",
       "52                  955799.0  \n",
       "54                   29911.0  \n",
       "62                  140439.0  \n",
       "79                  475656.0  \n",
       "80                   16567.0  \n",
       "82                   58237.0  "
      ]
     },
     "execution_count": 536,
     "metadata": {},
     "output_type": "execute_result"
    }
   ],
   "source": [
    "# Catégorie \"Céréales\"\n",
    "\n",
    "dispo_groupe_cereales = dispo_groupe_alim.loc[(dispo_groupe_alim['Produit']=='Blé') |\n",
    "                                                (dispo_groupe_alim['Produit']=='Riz (Eq Blanchi)') |\n",
    "                                                (dispo_groupe_alim['Produit']=='Orge') |\n",
    "                                                (dispo_groupe_alim['Produit']=='Maïs') |\n",
    "                                                (dispo_groupe_alim['Produit']=='Seigle') |\n",
    "                                                (dispo_groupe_alim['Produit']=='Millet') |\n",
    "                                                (dispo_groupe_alim['Produit']=='Sorgho') |\n",
    "                                                (dispo_groupe_alim['Produit']=='Avoine') |\n",
    "                                                (dispo_groupe_alim['Produit']=='Céréales, Autres'), :]\n",
    "dispo_groupe_cereales.head(9)"
   ]
  },
  {
   "cell_type": "code",
   "execution_count": 538,
   "id": "e4f83f33",
   "metadata": {},
   "outputs": [
    {
     "name": "stdout",
     "output_type": "stream",
     "text": [
      "Pourcentage d'alimentation animale des produits céréales =  36.29\n",
      "Pourcentage d'alimentation humaine des produits céréales =  42.75\n"
     ]
    }
   ],
   "source": [
    "# Porcentages alimentation animale et alimentation humaine pour la catégorie Produits céréales \n",
    "\n",
    "p_anim_cereale = round(dispo_groupe_cereales['Aliments pour animaux'].sum()*100/dispo_groupe_cereales['Disponibilité intérieure'].sum(),2)\n",
    "print (\"Pourcentage d'alimentation animale des produits céréales = \", p_anim_cereale)\n",
    "p_hum_cereale = round(dispo_groupe_cereales['Nourriture'].sum()*100/dispo_groupe_cereales['Disponibilité intérieure'].sum(),2)\n",
    "print (\"Pourcentage d'alimentation humaine des produits céréales = \", p_hum_cereale)"
   ]
  },
  {
   "cell_type": "markdown",
   "id": "638f574f",
   "metadata": {},
   "source": [
    "### L'utilisation des disponibilités intérieures de la catégorie céréales en 2013 est de 42.75% pour l'alimentation humaine et 36.29% pour l'alimentation animale."
   ]
  },
  {
   "cell_type": "code",
   "execution_count": 539,
   "id": "24beefa7",
   "metadata": {},
   "outputs": [
    {
     "data": {
      "image/png": "[encoded data removed]",
      "text/plain": [
       "<Figure size 504x504 with 1 Axes>"
      ]
     },
     "metadata": {},
     "output_type": "display_data"
    }
   ],
   "source": [
    "cer_prop = [36.29, 42.75, 20.96]\n",
    "cer_label = ['Pourcentage alimentation animale', 'Pourcentage alimentation humaine', 'Autres']\n",
    "plt.figure(figsize = (7,7))\n",
    "plt.pie(cer_prop, labels = cer_label, autopct = '%.2f%%', pctdistance = 0.76, \n",
    "        wedgeprops={'linewidth': 1.0,'edgecolor':'black'}, textprops={'fontsize': 12})\n",
    "plt.title(\"Utilisation des disponibilités intérieures de la catégorie céréales en 2013\", fontweight = 'bold', fontsize = 15)\n",
    "plt.show()"
   ]
  },
  {
   "cell_type": "markdown",
   "id": "71ef10ac",
   "metadata": {},
   "source": [
    "### Utilisation de la disponibilité intérieure du manioc en Thaïlande"
   ]
  },
  {
   "cell_type": "markdown",
   "id": "1dbae6ef",
   "metadata": {},
   "source": [
    "Julien avait mencioné un exemple étonnant d’utilisation du manioc par la Thaïlande aux égards de la proportion de personnes en sous-nutrition. \n",
    "\n",
    "On regarde la proportion de personnes en état de sous nutrition en Thaïlande  :"
   ]
  },
  {
   "cell_type": "code",
   "execution_count": 136,
   "id": "f78490e8",
   "metadata": {},
   "outputs": [
    {
     "data": {
      "text/html": [
       "<div>\n",
       "<style scoped>\n",
       "    .dataframe tbody tr th:only-of-type {\n",
       "        vertical-align: middle;\n",
       "    }\n",
       "\n",
       "    .dataframe tbody tr th {\n",
       "        vertical-align: top;\n",
       "    }\n",
       "\n",
       "    .dataframe thead th {\n",
       "        text-align: right;\n",
       "    }\n",
       "</style>\n",
       "<table border=\"1\" class=\"dataframe\">\n",
       "  <thead>\n",
       "    <tr style=\"text-align: right;\">\n",
       "      <th></th>\n",
       "      <th>Zone</th>\n",
       "      <th>Année</th>\n",
       "      <th>Population</th>\n",
       "      <th>Sous_nutrition</th>\n",
       "      <th>Proportion_sous_nut</th>\n",
       "    </tr>\n",
       "  </thead>\n",
       "  <tbody>\n",
       "    <tr>\n",
       "      <th>1114</th>\n",
       "      <td>Thaïlande</td>\n",
       "      <td>2017</td>\n",
       "      <td>69209810.0</td>\n",
       "      <td>6200000.0</td>\n",
       "      <td>8.96</td>\n",
       "    </tr>\n",
       "  </tbody>\n",
       "</table>\n",
       "</div>"
      ],
      "text/plain": [
       "           Zone Année  Population  Sous_nutrition  Proportion_sous_nut\n",
       "1114  Thaïlande  2017  69209810.0       6200000.0                 8.96"
      ]
     },
     "execution_count": 136,
     "metadata": {},
     "output_type": "execute_result"
    }
   ],
   "source": [
    "# Sous nutrition en Thaïlande\n",
    "p_thai = pop_sous_nut_2017.loc[pop_sous_nut_2017['Zone']=='Thaïlande',:]\n",
    "p_thai"
   ]
  },
  {
   "cell_type": "code",
   "execution_count": 137,
   "id": "606dea7d",
   "metadata": {},
   "outputs": [
    {
     "name": "stdout",
     "output_type": "stream",
     "text": [
      "La Thaïlande avait un total de 69 209 810.0 personnes en 2017, dont 6200000.0 en état de sous_nutrition, soit 8.96 % de la population.\n"
     ]
    }
   ],
   "source": [
    "print(\"La Thaïlande avait un total de\", '{:,}'.format(p_thai['Population'].values[0]).replace(',', ' '), \"personnes en 2017, dont\", p_thai['Sous_nutrition'].values[0], \"en état de sous_nutrition, soit\", p_thai['Proportion_sous_nut'].values[0], \"% de la population.\")"
   ]
  },
  {
   "cell_type": "markdown",
   "id": "95f08aab",
   "metadata": {},
   "source": [
    "Et on regarde les données de sa disponibilité alimentaire pour le produit manioc :"
   ]
  },
  {
   "cell_type": "code",
   "execution_count": 121,
   "id": "f1de8a11",
   "metadata": {},
   "outputs": [
    {
     "data": {
      "text/html": [
       "<div>\n",
       "<style scoped>\n",
       "    .dataframe tbody tr th:only-of-type {\n",
       "        vertical-align: middle;\n",
       "    }\n",
       "\n",
       "    .dataframe tbody tr th {\n",
       "        vertical-align: top;\n",
       "    }\n",
       "\n",
       "    .dataframe thead th {\n",
       "        text-align: right;\n",
       "    }\n",
       "</style>\n",
       "<table border=\"1\" class=\"dataframe\">\n",
       "  <thead>\n",
       "    <tr style=\"text-align: right;\">\n",
       "      <th></th>\n",
       "      <th>Zone</th>\n",
       "      <th>Produit</th>\n",
       "      <th>Origine</th>\n",
       "      <th>Aliments pour animaux</th>\n",
       "      <th>Autres Utilisations</th>\n",
       "      <th>Disponibilité intérieure</th>\n",
       "      <th>Exportations - Quantité</th>\n",
       "      <th>Importations - Quantité</th>\n",
       "      <th>Nourriture</th>\n",
       "      <th>Pertes</th>\n",
       "      <th>Production</th>\n",
       "      <th>Semences</th>\n",
       "      <th>Traitement</th>\n",
       "      <th>Variation de stock</th>\n",
       "      <th>Pourcentage alimentation animale</th>\n",
       "      <th>Pourcentage perdue</th>\n",
       "      <th>Pourcentage alimentation humaine</th>\n",
       "    </tr>\n",
       "  </thead>\n",
       "  <tbody>\n",
       "    <tr>\n",
       "      <th>13809</th>\n",
       "      <td>Thaïlande</td>\n",
       "      <td>Manioc</td>\n",
       "      <td>vegetale</td>\n",
       "      <td>1800.0</td>\n",
       "      <td>2081.0</td>\n",
       "      <td>6264.0</td>\n",
       "      <td>25214.0</td>\n",
       "      <td>1250.0</td>\n",
       "      <td>871.0</td>\n",
       "      <td>1511.0</td>\n",
       "      <td>30228.0</td>\n",
       "      <td>NaN</td>\n",
       "      <td>0.0</td>\n",
       "      <td>0.0</td>\n",
       "      <td>28.74</td>\n",
       "      <td>24.12</td>\n",
       "      <td>13.9</td>\n",
       "    </tr>\n",
       "  </tbody>\n",
       "</table>\n",
       "</div>"
      ],
      "text/plain": [
       "            Zone Produit   Origine  Aliments pour animaux  \\\n",
       "13809  Thaïlande  Manioc  vegetale                 1800.0   \n",
       "\n",
       "       Autres Utilisations  Disponibilité intérieure  Exportations - Quantité  \\\n",
       "13809               2081.0                    6264.0                  25214.0   \n",
       "\n",
       "       Importations - Quantité  Nourriture  Pertes  Production  Semences  \\\n",
       "13809                   1250.0       871.0  1511.0     30228.0       NaN   \n",
       "\n",
       "       Traitement  Variation de stock  Pourcentage alimentation animale  \\\n",
       "13809         0.0                 0.0                             28.74   \n",
       "\n",
       "       Pourcentage perdue  Pourcentage alimentation humaine  \n",
       "13809               24.12                              13.9  "
      ]
     },
     "execution_count": 121,
     "metadata": {},
     "output_type": "execute_result"
    }
   ],
   "source": [
    "# Disponibilité alimentaire du manioc en Thaïlande\n",
    "manioc_thailande = dispo_alim_qte.loc[(dispo_alim_qte['Zone']=='Thaïlande')&(dispo_alim_qte['Produit']=='Manioc'),:]\n",
    "manioc_thailande.head()"
   ]
  },
  {
   "cell_type": "code",
   "execution_count": 517,
   "id": "ee805ba2",
   "metadata": {},
   "outputs": [
    {
     "data": {
      "image/png": "[encoded data removed]",
      "text/plain": [
       "<Figure size 504x504 with 1 Axes>"
      ]
     },
     "metadata": {},
     "output_type": "display_data"
    }
   ],
   "source": [
    "manioc_pct = [28.74, 24.12, 13.9, 33.24]\n",
    "manioc_label = ['Pourcentage alimentation animale', 'Pourcentage perdue', 'Pourcentage alimentation humaine', 'Pourcentage Semences/Traitement/Autres']\n",
    "plt.figure(figsize =(7,7))\n",
    "plt.pie(x = manioc_pct, labels = manioc_label, autopct = '%.2f%%', \n",
    "        wedgeprops={'linewidth': 1.0,'edgecolor':'black'}, textprops={'fontsize': 12})\n",
    "plt.title(\"Distribution de la disponibilité intérieure du manioc \\n en Thailande en 2013\", fontsize = 15, fontweight = 'bold')\n",
    "plt.show()"
   ]
  },
  {
   "cell_type": "markdown",
   "id": "239a9a65",
   "metadata": {},
   "source": [
    "On peut noter un chiffre très important de la quantité exportée comparé à la production de ce produit. On calcule donc la proportion :"
   ]
  },
  {
   "cell_type": "code",
   "execution_count": 138,
   "id": "01a627cc",
   "metadata": {},
   "outputs": [
    {
     "data": {
      "text/plain": [
       "83.41"
      ]
     },
     "execution_count": 138,
     "metadata": {},
     "output_type": "execute_result"
    }
   ],
   "source": [
    "# proportion d'exportation de manioc par rapport à sa production en Thaïlande\n",
    "\n",
    "prop_manioc_thai_exp = round(manioc_thailande['Exportations - Quantité']*100/manioc_thailande['Production'],2)\n",
    "prop_manioc_thai_exp.values[0]"
   ]
  },
  {
   "cell_type": "markdown",
   "id": "a6789ea1",
   "metadata": {},
   "source": [
    "### La proportion d'exportation de manioc par rapport à sa production en Thaïlande est de 83.41%."
   ]
  },
  {
   "cell_type": "code",
   "execution_count": 521,
   "id": "fef6d5e6",
   "metadata": {},
   "outputs": [
    {
     "data": {
      "image/png": "[encoded data removed]",
      "text/plain": [
       "<Figure size 504x504 with 1 Axes>"
      ]
     },
     "metadata": {
      "needs_background": "light"
     },
     "output_type": "display_data"
    }
   ],
   "source": [
    "plt.figure(figsize = (7,7))\n",
    "plt.bar(data_graph, 100, color = 'skyblue', edgecolor='black')\n",
    "plt.bar(data_graph, 83.41, color = 'orangered', label = \"Exportation de manioc\", edgecolor='black')\n",
    "plt.legend(loc=\"lower left\",bbox_to_anchor=(1.1,0))\n",
    "plt.title(\"Proportion d'exportation de manioc par rapport à sa production en Thaïlande en 2013 (%)\", fontsize = 15, fontweight = 'bold')\n",
    "plt.show()"
   ]
  },
  {
   "cell_type": "markdown",
   "id": "bbc50806",
   "metadata": {},
   "source": [
    "# 2. Etude plus fine pour chacun des pays"
   ]
  },
  {
   "cell_type": "markdown",
   "id": "a86d6339",
   "metadata": {},
   "source": [
    "## 2.1 Pays pour lesquels la proportion de personnes sous-alimentées est la plus forte en 2017"
   ]
  },
  {
   "cell_type": "code",
   "execution_count": 184,
   "id": "c4920f2b",
   "metadata": {},
   "outputs": [
    {
     "data": {
      "text/html": [
       "<div>\n",
       "<style scoped>\n",
       "    .dataframe tbody tr th:only-of-type {\n",
       "        vertical-align: middle;\n",
       "    }\n",
       "\n",
       "    .dataframe tbody tr th {\n",
       "        vertical-align: top;\n",
       "    }\n",
       "\n",
       "    .dataframe thead th {\n",
       "        text-align: right;\n",
       "    }\n",
       "</style>\n",
       "<table border=\"1\" class=\"dataframe\">\n",
       "  <thead>\n",
       "    <tr style=\"text-align: right;\">\n",
       "      <th></th>\n",
       "      <th>Zone</th>\n",
       "      <th>Année</th>\n",
       "      <th>Population</th>\n",
       "      <th>Sous_nutrition</th>\n",
       "      <th>Proportion_sous_nut</th>\n",
       "    </tr>\n",
       "  </thead>\n",
       "  <tbody>\n",
       "    <tr>\n",
       "      <th>472</th>\n",
       "      <td>Haïti</td>\n",
       "      <td>2017</td>\n",
       "      <td>10982366.0</td>\n",
       "      <td>5300000.0</td>\n",
       "      <td>48.26</td>\n",
       "    </tr>\n",
       "    <tr>\n",
       "      <th>946</th>\n",
       "      <td>République populaire démocratique de Corée</td>\n",
       "      <td>2017</td>\n",
       "      <td>25429825.0</td>\n",
       "      <td>12000000.0</td>\n",
       "      <td>47.19</td>\n",
       "    </tr>\n",
       "    <tr>\n",
       "      <th>652</th>\n",
       "      <td>Madagascar</td>\n",
       "      <td>2017</td>\n",
       "      <td>25570512.0</td>\n",
       "      <td>10500000.0</td>\n",
       "      <td>41.06</td>\n",
       "    </tr>\n",
       "    <tr>\n",
       "      <th>622</th>\n",
       "      <td>Libéria</td>\n",
       "      <td>2017</td>\n",
       "      <td>4702226.0</td>\n",
       "      <td>1800000.0</td>\n",
       "      <td>38.28</td>\n",
       "    </tr>\n",
       "    <tr>\n",
       "      <th>604</th>\n",
       "      <td>Lesotho</td>\n",
       "      <td>2017</td>\n",
       "      <td>2091534.0</td>\n",
       "      <td>800000.0</td>\n",
       "      <td>38.25</td>\n",
       "    </tr>\n",
       "    <tr>\n",
       "      <th>1102</th>\n",
       "      <td>Tchad</td>\n",
       "      <td>2017</td>\n",
       "      <td>15016753.0</td>\n",
       "      <td>5700000.0</td>\n",
       "      <td>37.96</td>\n",
       "    </tr>\n",
       "    <tr>\n",
       "      <th>970</th>\n",
       "      <td>Rwanda</td>\n",
       "      <td>2017</td>\n",
       "      <td>11980961.0</td>\n",
       "      <td>4200000.0</td>\n",
       "      <td>35.06</td>\n",
       "    </tr>\n",
       "    <tr>\n",
       "      <th>730</th>\n",
       "      <td>Mozambique</td>\n",
       "      <td>2017</td>\n",
       "      <td>28649018.0</td>\n",
       "      <td>9400000.0</td>\n",
       "      <td>32.81</td>\n",
       "    </tr>\n",
       "    <tr>\n",
       "      <th>1120</th>\n",
       "      <td>Timor-Leste</td>\n",
       "      <td>2017</td>\n",
       "      <td>1243258.0</td>\n",
       "      <td>400000.0</td>\n",
       "      <td>32.17</td>\n",
       "    </tr>\n",
       "    <tr>\n",
       "      <th>4</th>\n",
       "      <td>Afghanistan</td>\n",
       "      <td>2017</td>\n",
       "      <td>36296113.0</td>\n",
       "      <td>10500000.0</td>\n",
       "      <td>28.93</td>\n",
       "    </tr>\n",
       "  </tbody>\n",
       "</table>\n",
       "</div>"
      ],
      "text/plain": [
       "                                            Zone Année  Population  \\\n",
       "472                                        Haïti  2017  10982366.0   \n",
       "946   République populaire démocratique de Corée  2017  25429825.0   \n",
       "652                                   Madagascar  2017  25570512.0   \n",
       "622                                      Libéria  2017   4702226.0   \n",
       "604                                      Lesotho  2017   2091534.0   \n",
       "1102                                       Tchad  2017  15016753.0   \n",
       "970                                       Rwanda  2017  11980961.0   \n",
       "730                                   Mozambique  2017  28649018.0   \n",
       "1120                                 Timor-Leste  2017   1243258.0   \n",
       "4                                    Afghanistan  2017  36296113.0   \n",
       "\n",
       "      Sous_nutrition  Proportion_sous_nut  \n",
       "472        5300000.0                48.26  \n",
       "946       12000000.0                47.19  \n",
       "652       10500000.0                41.06  \n",
       "622        1800000.0                38.28  \n",
       "604         800000.0                38.25  \n",
       "1102       5700000.0                37.96  \n",
       "970        4200000.0                35.06  \n",
       "730        9400000.0                32.81  \n",
       "1120        400000.0                32.17  \n",
       "4         10500000.0                28.93  "
      ]
     },
     "execution_count": 184,
     "metadata": {},
     "output_type": "execute_result"
    }
   ],
   "source": [
    "pop_sous_graph = pop_sous_nut_2017.sort_values('Proportion_sous_nut', ascending=False).head(10)\n",
    "pop_sous_graph"
   ]
  },
  {
   "cell_type": "code",
   "execution_count": 529,
   "id": "9c86491b",
   "metadata": {},
   "outputs": [
    {
     "data": {
      "image/png": "[encoded data removed]",
      "text/plain": [
       "<Figure size 720x504 with 1 Axes>"
      ]
     },
     "metadata": {
      "needs_background": "light"
     },
     "output_type": "display_data"
    }
   ],
   "source": [
    "plt.figure(figsize = (10,7))\n",
    "sns.barplot(y = pop_sous_graph['Proportion_sous_nut'], x = pop_sous_graph['Zone'], palette = 'deep')\n",
    "plt.ylabel('Taux de sous nutrition (%)')\n",
    "plt.xticks(rotation = 90)\n",
    "plt.title(\"Pays pour lesquels la sous-alimentation est la plus forte en 2017\", fontweight = 'bold', fontsize = 15)\n",
    "plt.show()"
   ]
  },
  {
   "cell_type": "markdown",
   "id": "2775eddb",
   "metadata": {},
   "source": [
    "## 2.2 Pays qui ont le plus bénéficié d’aide depuis 2013"
   ]
  },
  {
   "cell_type": "code",
   "execution_count": 473,
   "id": "8222b19c",
   "metadata": {},
   "outputs": [
    {
     "data": {
      "text/html": [
       "<div>\n",
       "<style scoped>\n",
       "    .dataframe tbody tr th:only-of-type {\n",
       "        vertical-align: middle;\n",
       "    }\n",
       "\n",
       "    .dataframe tbody tr th {\n",
       "        vertical-align: top;\n",
       "    }\n",
       "\n",
       "    .dataframe thead th {\n",
       "        text-align: right;\n",
       "    }\n",
       "</style>\n",
       "<table border=\"1\" class=\"dataframe\">\n",
       "  <thead>\n",
       "    <tr style=\"text-align: right;\">\n",
       "      <th></th>\n",
       "      <th>Pays bénéficiaire</th>\n",
       "      <th>Somme (tonnes)</th>\n",
       "      <th>Proportion des aides</th>\n",
       "    </tr>\n",
       "  </thead>\n",
       "  <tbody>\n",
       "    <tr>\n",
       "      <th>50</th>\n",
       "      <td>République arabe syrienne</td>\n",
       "      <td>1.858943</td>\n",
       "      <td>16.844506</td>\n",
       "    </tr>\n",
       "    <tr>\n",
       "      <th>75</th>\n",
       "      <td>Éthiopie</td>\n",
       "      <td>1.381294</td>\n",
       "      <td>12.516368</td>\n",
       "    </tr>\n",
       "    <tr>\n",
       "      <th>70</th>\n",
       "      <td>Yémen</td>\n",
       "      <td>1.206484</td>\n",
       "      <td>10.932356</td>\n",
       "    </tr>\n",
       "    <tr>\n",
       "      <th>61</th>\n",
       "      <td>Soudan du Sud</td>\n",
       "      <td>0.695248</td>\n",
       "      <td>6.299875</td>\n",
       "    </tr>\n",
       "    <tr>\n",
       "      <th>60</th>\n",
       "      <td>Soudan</td>\n",
       "      <td>0.669784</td>\n",
       "      <td>6.069137</td>\n",
       "    </tr>\n",
       "  </tbody>\n",
       "</table>\n",
       "</div>"
      ],
      "text/plain": [
       "            Pays bénéficiaire  Somme (tonnes)  Proportion des aides\n",
       "50  République arabe syrienne        1.858943             16.844506\n",
       "75                   Éthiopie        1.381294             12.516368\n",
       "70                      Yémen        1.206484             10.932356\n",
       "61              Soudan du Sud        0.695248              6.299875\n",
       "60                     Soudan        0.669784              6.069137"
      ]
     },
     "execution_count": 473,
     "metadata": {},
     "output_type": "execute_result"
    }
   ],
   "source": [
    "# Somme des valeurs reçus en aide alimentaire par pays depuis 2013\n",
    "aide_group = aide_alimentaire.groupby('Pays bénéficiaire')['Valeur'].sum().reset_index()\n",
    "aide_group['Valeur'] = aide_group['Valeur']/1000000\n",
    "aide_group.rename(columns={'Valeur':'Somme (tonnes)'}, inplace = True)\n",
    "\n",
    "# Proportion des aides pour chaque pays\n",
    "aide_group['Proportion des aides'] = aide_group['Somme (tonnes)']*100/aide_group['Somme (tonnes)'].sum()\n",
    "\n",
    "#Classement des 5 pays qui ont reçu les plus de bénéfices d'aide\n",
    "aide_graph = aide_group.sort_values('Proportion des aides', ascending=False).head()\n",
    "aide_graph"
   ]
  },
  {
   "cell_type": "code",
   "execution_count": 480,
   "id": "11779a14",
   "metadata": {},
   "outputs": [
    {
     "data": {
      "image/png": "[encoded data removed]",
      "text/plain": [
       "<Figure size 432x432 with 1 Axes>"
      ]
     },
     "metadata": {},
     "output_type": "display_data"
    }
   ],
   "source": [
    "c = aide_graph['Proportion des aides'].sum()\n",
    "d = 100 - c\n",
    "d\n",
    "\n",
    "plt.figure(figsize = (6,6))\n",
    "proport_aides = [16.84,12.51,10.93,6.29,6.06, 47.33]\n",
    "labels_aides = ['République arabe syrienne', 'Éthiopie', 'Yémen', 'Soudan du Sud', 'Soudan', 'Autres']\n",
    "plt.pie(x = proport_aides, labels = labels_aides, autopct = '%.2f%%', wedgeprops={'linewidth': 1.0,'edgecolor':'black'}, textprops={'fontsize': 12})\n",
    "plt.title(\"Pays qui ont le plus bénéficié d’aide depuis 2013\", fontweight = 'bold', fontsize = 15)\n",
    "plt.show()"
   ]
  },
  {
   "cell_type": "markdown",
   "id": "f03cb5f0",
   "metadata": {},
   "source": [
    "## 2.3 Pays ayant le plus/le moins de disponibilité/habitant"
   ]
  },
  {
   "cell_type": "markdown",
   "id": "3a030d90",
   "metadata": {},
   "source": [
    "On travaillera avec la disponibilité alimentaire en kcal/personne/jour."
   ]
  },
  {
   "cell_type": "code",
   "execution_count": 198,
   "id": "7e9fc150",
   "metadata": {},
   "outputs": [
    {
     "data": {
      "text/html": [
       "<div>\n",
       "<style scoped>\n",
       "    .dataframe tbody tr th:only-of-type {\n",
       "        vertical-align: middle;\n",
       "    }\n",
       "\n",
       "    .dataframe tbody tr th {\n",
       "        vertical-align: top;\n",
       "    }\n",
       "\n",
       "    .dataframe thead th {\n",
       "        text-align: right;\n",
       "    }\n",
       "</style>\n",
       "<table border=\"1\" class=\"dataframe\">\n",
       "  <thead>\n",
       "    <tr style=\"text-align: right;\">\n",
       "      <th></th>\n",
       "      <th>Zone</th>\n",
       "      <th>Disponibilité alimentaire (Kcal/personne/jour)</th>\n",
       "    </tr>\n",
       "  </thead>\n",
       "  <tbody>\n",
       "    <tr>\n",
       "      <th>0</th>\n",
       "      <td>Afghanistan</td>\n",
       "      <td>2087.0</td>\n",
       "    </tr>\n",
       "    <tr>\n",
       "      <th>1</th>\n",
       "      <td>Afrique du Sud</td>\n",
       "      <td>3020.0</td>\n",
       "    </tr>\n",
       "    <tr>\n",
       "      <th>2</th>\n",
       "      <td>Albanie</td>\n",
       "      <td>3188.0</td>\n",
       "    </tr>\n",
       "    <tr>\n",
       "      <th>3</th>\n",
       "      <td>Algérie</td>\n",
       "      <td>3293.0</td>\n",
       "    </tr>\n",
       "    <tr>\n",
       "      <th>4</th>\n",
       "      <td>Allemagne</td>\n",
       "      <td>3503.0</td>\n",
       "    </tr>\n",
       "  </tbody>\n",
       "</table>\n",
       "</div>"
      ],
      "text/plain": [
       "             Zone  Disponibilité alimentaire (Kcal/personne/jour)\n",
       "0     Afghanistan                                          2087.0\n",
       "1  Afrique du Sud                                          3020.0\n",
       "2         Albanie                                          3188.0\n",
       "3         Algérie                                          3293.0\n",
       "4       Allemagne                                          3503.0"
      ]
     },
     "execution_count": 198,
     "metadata": {},
     "output_type": "execute_result"
    }
   ],
   "source": [
    "# Disponibilité intériéure totale par pays\n",
    "\n",
    "dispo_inter_par_pays = dispo_alimentaire.groupby('Zone')['Disponibilité alimentaire (Kcal/personne/jour)'].sum().reset_index()\n",
    "dispo_inter_par_pays.head()"
   ]
  },
  {
   "cell_type": "code",
   "execution_count": 199,
   "id": "cfe70f08",
   "metadata": {},
   "outputs": [
    {
     "data": {
      "text/html": [
       "<div>\n",
       "<style scoped>\n",
       "    .dataframe tbody tr th:only-of-type {\n",
       "        vertical-align: middle;\n",
       "    }\n",
       "\n",
       "    .dataframe tbody tr th {\n",
       "        vertical-align: top;\n",
       "    }\n",
       "\n",
       "    .dataframe thead th {\n",
       "        text-align: right;\n",
       "    }\n",
       "</style>\n",
       "<table border=\"1\" class=\"dataframe\">\n",
       "  <thead>\n",
       "    <tr style=\"text-align: right;\">\n",
       "      <th></th>\n",
       "      <th>Zone</th>\n",
       "      <th>Année</th>\n",
       "      <th>Population</th>\n",
       "      <th>Disponibilité alimentaire (Kcal/personne/jour)</th>\n",
       "    </tr>\n",
       "  </thead>\n",
       "  <tbody>\n",
       "    <tr>\n",
       "      <th>0</th>\n",
       "      <td>Afghanistan</td>\n",
       "      <td>2013</td>\n",
       "      <td>32269589.0</td>\n",
       "      <td>2087.0</td>\n",
       "    </tr>\n",
       "    <tr>\n",
       "      <th>1</th>\n",
       "      <td>Afrique du Sud</td>\n",
       "      <td>2013</td>\n",
       "      <td>53687121.0</td>\n",
       "      <td>3020.0</td>\n",
       "    </tr>\n",
       "    <tr>\n",
       "      <th>2</th>\n",
       "      <td>Albanie</td>\n",
       "      <td>2013</td>\n",
       "      <td>2903790.0</td>\n",
       "      <td>3188.0</td>\n",
       "    </tr>\n",
       "    <tr>\n",
       "      <th>3</th>\n",
       "      <td>Algérie</td>\n",
       "      <td>2013</td>\n",
       "      <td>38140133.0</td>\n",
       "      <td>3293.0</td>\n",
       "    </tr>\n",
       "    <tr>\n",
       "      <th>4</th>\n",
       "      <td>Allemagne</td>\n",
       "      <td>2013</td>\n",
       "      <td>81174367.0</td>\n",
       "      <td>3503.0</td>\n",
       "    </tr>\n",
       "  </tbody>\n",
       "</table>\n",
       "</div>"
      ],
      "text/plain": [
       "             Zone  Année  Population  \\\n",
       "0     Afghanistan   2013  32269589.0   \n",
       "1  Afrique du Sud   2013  53687121.0   \n",
       "2         Albanie   2013   2903790.0   \n",
       "3         Algérie   2013  38140133.0   \n",
       "4       Allemagne   2013  81174367.0   \n",
       "\n",
       "   Disponibilité alimentaire (Kcal/personne/jour)  \n",
       "0                                          2087.0  \n",
       "1                                          3020.0  \n",
       "2                                          3188.0  \n",
       "3                                          3293.0  \n",
       "4                                          3503.0  "
      ]
     },
     "execution_count": 199,
     "metadata": {},
     "output_type": "execute_result"
    }
   ],
   "source": [
    "# Disponibilité alimentaire + Population 2013\n",
    "\n",
    "dispo_int_pop = pd.merge(pop_2013, dispo_inter_par_pays, on=['Zone'])\n",
    "dispo_int_pop.head()"
   ]
  },
  {
   "cell_type": "markdown",
   "id": "180603d3",
   "metadata": {},
   "source": [
    "Les 10 pays ayant le plus de disponibilité par habitant :"
   ]
  },
  {
   "cell_type": "code",
   "execution_count": 202,
   "id": "440bc8f6",
   "metadata": {},
   "outputs": [
    {
     "data": {
      "text/html": [
       "<div>\n",
       "<style scoped>\n",
       "    .dataframe tbody tr th:only-of-type {\n",
       "        vertical-align: middle;\n",
       "    }\n",
       "\n",
       "    .dataframe tbody tr th {\n",
       "        vertical-align: top;\n",
       "    }\n",
       "\n",
       "    .dataframe thead th {\n",
       "        text-align: right;\n",
       "    }\n",
       "</style>\n",
       "<table border=\"1\" class=\"dataframe\">\n",
       "  <thead>\n",
       "    <tr style=\"text-align: right;\">\n",
       "      <th></th>\n",
       "      <th>Zone</th>\n",
       "      <th>Année</th>\n",
       "      <th>Population</th>\n",
       "      <th>Disponibilité alimentaire (Kcal/personne/jour)</th>\n",
       "    </tr>\n",
       "  </thead>\n",
       "  <tbody>\n",
       "    <tr>\n",
       "      <th>11</th>\n",
       "      <td>Autriche</td>\n",
       "      <td>2013</td>\n",
       "      <td>8556189.0</td>\n",
       "      <td>3770.0</td>\n",
       "    </tr>\n",
       "    <tr>\n",
       "      <th>17</th>\n",
       "      <td>Belgique</td>\n",
       "      <td>2013</td>\n",
       "      <td>11154009.0</td>\n",
       "      <td>3737.0</td>\n",
       "    </tr>\n",
       "    <tr>\n",
       "      <th>163</th>\n",
       "      <td>Turquie</td>\n",
       "      <td>2013</td>\n",
       "      <td>75925462.0</td>\n",
       "      <td>3708.0</td>\n",
       "    </tr>\n",
       "    <tr>\n",
       "      <th>54</th>\n",
       "      <td>États-Unis d'Amérique</td>\n",
       "      <td>2013</td>\n",
       "      <td>316400538.0</td>\n",
       "      <td>3682.0</td>\n",
       "    </tr>\n",
       "    <tr>\n",
       "      <th>80</th>\n",
       "      <td>Israël</td>\n",
       "      <td>2013</td>\n",
       "      <td>7734841.0</td>\n",
       "      <td>3610.0</td>\n",
       "    </tr>\n",
       "    <tr>\n",
       "      <th>78</th>\n",
       "      <td>Irlande</td>\n",
       "      <td>2013</td>\n",
       "      <td>4615422.0</td>\n",
       "      <td>3602.0</td>\n",
       "    </tr>\n",
       "    <tr>\n",
       "      <th>81</th>\n",
       "      <td>Italie</td>\n",
       "      <td>2013</td>\n",
       "      <td>60166830.0</td>\n",
       "      <td>3578.0</td>\n",
       "    </tr>\n",
       "    <tr>\n",
       "      <th>95</th>\n",
       "      <td>Luxembourg</td>\n",
       "      <td>2013</td>\n",
       "      <td>542560.0</td>\n",
       "      <td>3540.0</td>\n",
       "    </tr>\n",
       "    <tr>\n",
       "      <th>47</th>\n",
       "      <td>Égypte</td>\n",
       "      <td>2013</td>\n",
       "      <td>88404646.0</td>\n",
       "      <td>3518.0</td>\n",
       "    </tr>\n",
       "    <tr>\n",
       "      <th>4</th>\n",
       "      <td>Allemagne</td>\n",
       "      <td>2013</td>\n",
       "      <td>81174367.0</td>\n",
       "      <td>3503.0</td>\n",
       "    </tr>\n",
       "  </tbody>\n",
       "</table>\n",
       "</div>"
      ],
      "text/plain": [
       "                      Zone  Année   Population  \\\n",
       "11                Autriche   2013    8556189.0   \n",
       "17                Belgique   2013   11154009.0   \n",
       "163                Turquie   2013   75925462.0   \n",
       "54   États-Unis d'Amérique   2013  316400538.0   \n",
       "80                  Israël   2013    7734841.0   \n",
       "78                 Irlande   2013    4615422.0   \n",
       "81                  Italie   2013   60166830.0   \n",
       "95              Luxembourg   2013     542560.0   \n",
       "47                  Égypte   2013   88404646.0   \n",
       "4                Allemagne   2013   81174367.0   \n",
       "\n",
       "     Disponibilité alimentaire (Kcal/personne/jour)  \n",
       "11                                           3770.0  \n",
       "17                                           3737.0  \n",
       "163                                          3708.0  \n",
       "54                                           3682.0  \n",
       "80                                           3610.0  \n",
       "78                                           3602.0  \n",
       "81                                           3578.0  \n",
       "95                                           3540.0  \n",
       "47                                           3518.0  \n",
       "4                                            3503.0  "
      ]
     },
     "execution_count": 202,
     "metadata": {},
     "output_type": "execute_result"
    }
   ],
   "source": [
    "top_10_dispo = dispo_int_pop.sort_values('Disponibilité alimentaire (Kcal/personne/jour)', ascending=False).head(10)\n",
    "top_10_dispo"
   ]
  },
  {
   "cell_type": "code",
   "execution_count": 530,
   "id": "aa49d30e",
   "metadata": {},
   "outputs": [
    {
     "data": {
      "image/png": "[encoded data removed]",
      "text/plain": [
       "<Figure size 720x504 with 1 Axes>"
      ]
     },
     "metadata": {
      "needs_background": "light"
     },
     "output_type": "display_data"
    }
   ],
   "source": [
    "plt.figure(figsize=(10,7))\n",
    "sns.barplot(x= top_10_dispo['Zone'], y = top_10_dispo['Disponibilité alimentaire (Kcal/personne/jour)'], palette='Set2')\n",
    "plt.xticks(rotation = 90)\n",
    "plt.ylabel(\"Disponibilité alimentaire (Kcal/personne/jour)\")\n",
    "plt.title(\"Pays ayant le plus de disponibilité par habitant\", fontweight = 'bold', fontsize = 15)\n",
    "plt.show()"
   ]
  },
  {
   "cell_type": "markdown",
   "id": "a6149543",
   "metadata": {},
   "source": [
    "Les 10 pays ayant le le moins de disponibilité par habitant :"
   ]
  },
  {
   "cell_type": "code",
   "execution_count": 229,
   "id": "e6b6ca17",
   "metadata": {},
   "outputs": [
    {
     "data": {
      "text/html": [
       "<div>\n",
       "<style scoped>\n",
       "    .dataframe tbody tr th:only-of-type {\n",
       "        vertical-align: middle;\n",
       "    }\n",
       "\n",
       "    .dataframe tbody tr th {\n",
       "        vertical-align: top;\n",
       "    }\n",
       "\n",
       "    .dataframe thead th {\n",
       "        text-align: right;\n",
       "    }\n",
       "</style>\n",
       "<table border=\"1\" class=\"dataframe\">\n",
       "  <thead>\n",
       "    <tr style=\"text-align: right;\">\n",
       "      <th></th>\n",
       "      <th>Zone</th>\n",
       "      <th>Année</th>\n",
       "      <th>Population</th>\n",
       "      <th>Disponibilité alimentaire (Kcal/personne/jour)</th>\n",
       "    </tr>\n",
       "  </thead>\n",
       "  <tbody>\n",
       "    <tr>\n",
       "      <th>131</th>\n",
       "      <td>République centrafricaine</td>\n",
       "      <td>2013</td>\n",
       "      <td>4447944.0</td>\n",
       "      <td>1879.0</td>\n",
       "    </tr>\n",
       "    <tr>\n",
       "      <th>170</th>\n",
       "      <td>Zambie</td>\n",
       "      <td>2013</td>\n",
       "      <td>14926544.0</td>\n",
       "      <td>1924.0</td>\n",
       "    </tr>\n",
       "    <tr>\n",
       "      <th>97</th>\n",
       "      <td>Madagascar</td>\n",
       "      <td>2013</td>\n",
       "      <td>22961255.0</td>\n",
       "      <td>2056.0</td>\n",
       "    </tr>\n",
       "    <tr>\n",
       "      <th>0</th>\n",
       "      <td>Afghanistan</td>\n",
       "      <td>2013</td>\n",
       "      <td>32269589.0</td>\n",
       "      <td>2087.0</td>\n",
       "    </tr>\n",
       "    <tr>\n",
       "      <th>70</th>\n",
       "      <td>Haïti</td>\n",
       "      <td>2013</td>\n",
       "      <td>10400675.0</td>\n",
       "      <td>2089.0</td>\n",
       "    </tr>\n",
       "    <tr>\n",
       "      <th>136</th>\n",
       "      <td>République populaire démocratique de Corée</td>\n",
       "      <td>2013</td>\n",
       "      <td>24929497.0</td>\n",
       "      <td>2093.0</td>\n",
       "    </tr>\n",
       "    <tr>\n",
       "      <th>156</th>\n",
       "      <td>Tchad</td>\n",
       "      <td>2013</td>\n",
       "      <td>13220433.0</td>\n",
       "      <td>2109.0</td>\n",
       "    </tr>\n",
       "    <tr>\n",
       "      <th>171</th>\n",
       "      <td>Zimbabwe</td>\n",
       "      <td>2013</td>\n",
       "      <td>13350373.0</td>\n",
       "      <td>2113.0</td>\n",
       "    </tr>\n",
       "    <tr>\n",
       "      <th>120</th>\n",
       "      <td>Ouganda</td>\n",
       "      <td>2013</td>\n",
       "      <td>35694519.0</td>\n",
       "      <td>2126.0</td>\n",
       "    </tr>\n",
       "    <tr>\n",
       "      <th>55</th>\n",
       "      <td>Éthiopie</td>\n",
       "      <td>2013</td>\n",
       "      <td>95385798.0</td>\n",
       "      <td>2129.0</td>\n",
       "    </tr>\n",
       "  </tbody>\n",
       "</table>\n",
       "</div>"
      ],
      "text/plain": [
       "                                           Zone  Année  Population  \\\n",
       "131                   République centrafricaine   2013   4447944.0   \n",
       "170                                      Zambie   2013  14926544.0   \n",
       "97                                   Madagascar   2013  22961255.0   \n",
       "0                                   Afghanistan   2013  32269589.0   \n",
       "70                                        Haïti   2013  10400675.0   \n",
       "136  République populaire démocratique de Corée   2013  24929497.0   \n",
       "156                                       Tchad   2013  13220433.0   \n",
       "171                                    Zimbabwe   2013  13350373.0   \n",
       "120                                     Ouganda   2013  35694519.0   \n",
       "55                                     Éthiopie   2013  95385798.0   \n",
       "\n",
       "     Disponibilité alimentaire (Kcal/personne/jour)  \n",
       "131                                          1879.0  \n",
       "170                                          1924.0  \n",
       "97                                           2056.0  \n",
       "0                                            2087.0  \n",
       "70                                           2089.0  \n",
       "136                                          2093.0  \n",
       "156                                          2109.0  \n",
       "171                                          2113.0  \n",
       "120                                          2126.0  \n",
       "55                                           2129.0  "
      ]
     },
     "execution_count": 229,
     "metadata": {},
     "output_type": "execute_result"
    }
   ],
   "source": [
    "pire_10_dispo = dispo_int_pop.sort_values('Disponibilité alimentaire (Kcal/personne/jour)').head(10)\n",
    "pire_10_dispo"
   ]
  },
  {
   "cell_type": "code",
   "execution_count": 531,
   "id": "624c847f",
   "metadata": {},
   "outputs": [
    {
     "data": {
      "image/png": "[encoded data removed]",
      "text/plain": [
       "<Figure size 720x504 with 1 Axes>"
      ]
     },
     "metadata": {
      "needs_background": "light"
     },
     "output_type": "display_data"
    }
   ],
   "source": [
    "plt.figure(figsize = (10,7))\n",
    "sns.barplot(x = pire_10_dispo['Zone'], y = pire_10_dispo['Disponibilité alimentaire (Kcal/personne/jour)'], palette = 'deep')\n",
    "plt.ylabel(\"Disponibilité alimentaire (Kcal/personne/jour)\")\n",
    "plt.xticks(rotation = 90)\n",
    "plt.title(\"Pays ayant le moins de disponibilité par habitant\", fontweight = 'bold', fontsize = 15)\n",
    "plt.show()"
   ]
  }
 ],
 "metadata": {
  "kernelspec": {
   "display_name": "Python 3 (ipykernel)",
   "language": "python",
   "name": "python3"
  },
  "language_info": {
   "codemirror_mode": {
    "name": "ipython",
    "version": 3
   },
   "file_extension": ".py",
   "mimetype": "text/x-python",
   "name": "python",
   "nbconvert_exporter": "python",
   "pygments_lexer": "ipython3",
   "version": "3.9.12"
  }
 },
 "nbformat": 4,
 "nbformat_minor": 5
}
